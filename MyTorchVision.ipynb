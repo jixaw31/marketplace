{
  "nbformat": 4,
  "nbformat_minor": 0,
  "metadata": {
    "colab": {
      "provenance": [],
      "mount_file_id": "1KjzmFozzAAwqEki_v9Qof8E3eZNbLDco",
      "authorship_tag": "ABX9TyN1jMrc8BuVXkQaUHb96eOv",
      "include_colab_link": true
    },
    "kernelspec": {
      "name": "python3",
      "display_name": "Python 3"
    },
    "language_info": {
      "name": "python"
    },
    "widgets": {
      "application/vnd.jupyter.widget-state+json": {
        "9c3abd74a707472f8fdd12da7bb77f33": {
          "model_module": "@jupyter-widgets/controls",
          "model_name": "HBoxModel",
          "model_module_version": "1.5.0",
          "state": {
            "_dom_classes": [],
            "_model_module": "@jupyter-widgets/controls",
            "_model_module_version": "1.5.0",
            "_model_name": "HBoxModel",
            "_view_count": null,
            "_view_module": "@jupyter-widgets/controls",
            "_view_module_version": "1.5.0",
            "_view_name": "HBoxView",
            "box_style": "",
            "children": [
              "IPY_MODEL_1152d8aaefe6412a8540e4004ba1f90e",
              "IPY_MODEL_72038f6943ba46758a67fd1961d117be",
              "IPY_MODEL_b65cd02190a5496783db8c1df834d90f"
            ],
            "layout": "IPY_MODEL_e4e3aa64502a422faf73c703fb4ee26e"
          }
        },
        "1152d8aaefe6412a8540e4004ba1f90e": {
          "model_module": "@jupyter-widgets/controls",
          "model_name": "HTMLModel",
          "model_module_version": "1.5.0",
          "state": {
            "_dom_classes": [],
            "_model_module": "@jupyter-widgets/controls",
            "_model_module_version": "1.5.0",
            "_model_name": "HTMLModel",
            "_view_count": null,
            "_view_module": "@jupyter-widgets/controls",
            "_view_module_version": "1.5.0",
            "_view_name": "HTMLView",
            "description": "",
            "description_tooltip": null,
            "layout": "IPY_MODEL_ac9c3898f0864ee580a667a5ed7a1d8a",
            "placeholder": "​",
            "style": "IPY_MODEL_ed777d3b1147459596250911b1688780",
            "value": "100%"
          }
        },
        "72038f6943ba46758a67fd1961d117be": {
          "model_module": "@jupyter-widgets/controls",
          "model_name": "FloatProgressModel",
          "model_module_version": "1.5.0",
          "state": {
            "_dom_classes": [],
            "_model_module": "@jupyter-widgets/controls",
            "_model_module_version": "1.5.0",
            "_model_name": "FloatProgressModel",
            "_view_count": null,
            "_view_module": "@jupyter-widgets/controls",
            "_view_module_version": "1.5.0",
            "_view_name": "ProgressView",
            "bar_style": "success",
            "description": "",
            "description_tooltip": null,
            "layout": "IPY_MODEL_5b4b9fe20ac8465e9f199737cac87316",
            "max": 313,
            "min": 0,
            "orientation": "horizontal",
            "style": "IPY_MODEL_15ce129528dc42b7814e9f593926836e",
            "value": 313
          }
        },
        "b65cd02190a5496783db8c1df834d90f": {
          "model_module": "@jupyter-widgets/controls",
          "model_name": "HTMLModel",
          "model_module_version": "1.5.0",
          "state": {
            "_dom_classes": [],
            "_model_module": "@jupyter-widgets/controls",
            "_model_module_version": "1.5.0",
            "_model_name": "HTMLModel",
            "_view_count": null,
            "_view_module": "@jupyter-widgets/controls",
            "_view_module_version": "1.5.0",
            "_view_name": "HTMLView",
            "description": "",
            "description_tooltip": null,
            "layout": "IPY_MODEL_d023afd1a05d47f8af9057988ea06e40",
            "placeholder": "​",
            "style": "IPY_MODEL_b3044f142b614b7f9d0f6500db9b5a58",
            "value": " 313/313 [00:08&lt;00:00, 70.33it/s]"
          }
        },
        "e4e3aa64502a422faf73c703fb4ee26e": {
          "model_module": "@jupyter-widgets/base",
          "model_name": "LayoutModel",
          "model_module_version": "1.2.0",
          "state": {
            "_model_module": "@jupyter-widgets/base",
            "_model_module_version": "1.2.0",
            "_model_name": "LayoutModel",
            "_view_count": null,
            "_view_module": "@jupyter-widgets/base",
            "_view_module_version": "1.2.0",
            "_view_name": "LayoutView",
            "align_content": null,
            "align_items": null,
            "align_self": null,
            "border": null,
            "bottom": null,
            "display": null,
            "flex": null,
            "flex_flow": null,
            "grid_area": null,
            "grid_auto_columns": null,
            "grid_auto_flow": null,
            "grid_auto_rows": null,
            "grid_column": null,
            "grid_gap": null,
            "grid_row": null,
            "grid_template_areas": null,
            "grid_template_columns": null,
            "grid_template_rows": null,
            "height": null,
            "justify_content": null,
            "justify_items": null,
            "left": null,
            "margin": null,
            "max_height": null,
            "max_width": null,
            "min_height": null,
            "min_width": null,
            "object_fit": null,
            "object_position": null,
            "order": null,
            "overflow": null,
            "overflow_x": null,
            "overflow_y": null,
            "padding": null,
            "right": null,
            "top": null,
            "visibility": null,
            "width": null
          }
        },
        "ac9c3898f0864ee580a667a5ed7a1d8a": {
          "model_module": "@jupyter-widgets/base",
          "model_name": "LayoutModel",
          "model_module_version": "1.2.0",
          "state": {
            "_model_module": "@jupyter-widgets/base",
            "_model_module_version": "1.2.0",
            "_model_name": "LayoutModel",
            "_view_count": null,
            "_view_module": "@jupyter-widgets/base",
            "_view_module_version": "1.2.0",
            "_view_name": "LayoutView",
            "align_content": null,
            "align_items": null,
            "align_self": null,
            "border": null,
            "bottom": null,
            "display": null,
            "flex": null,
            "flex_flow": null,
            "grid_area": null,
            "grid_auto_columns": null,
            "grid_auto_flow": null,
            "grid_auto_rows": null,
            "grid_column": null,
            "grid_gap": null,
            "grid_row": null,
            "grid_template_areas": null,
            "grid_template_columns": null,
            "grid_template_rows": null,
            "height": null,
            "justify_content": null,
            "justify_items": null,
            "left": null,
            "margin": null,
            "max_height": null,
            "max_width": null,
            "min_height": null,
            "min_width": null,
            "object_fit": null,
            "object_position": null,
            "order": null,
            "overflow": null,
            "overflow_x": null,
            "overflow_y": null,
            "padding": null,
            "right": null,
            "top": null,
            "visibility": null,
            "width": null
          }
        },
        "ed777d3b1147459596250911b1688780": {
          "model_module": "@jupyter-widgets/controls",
          "model_name": "DescriptionStyleModel",
          "model_module_version": "1.5.0",
          "state": {
            "_model_module": "@jupyter-widgets/controls",
            "_model_module_version": "1.5.0",
            "_model_name": "DescriptionStyleModel",
            "_view_count": null,
            "_view_module": "@jupyter-widgets/base",
            "_view_module_version": "1.2.0",
            "_view_name": "StyleView",
            "description_width": ""
          }
        },
        "5b4b9fe20ac8465e9f199737cac87316": {
          "model_module": "@jupyter-widgets/base",
          "model_name": "LayoutModel",
          "model_module_version": "1.2.0",
          "state": {
            "_model_module": "@jupyter-widgets/base",
            "_model_module_version": "1.2.0",
            "_model_name": "LayoutModel",
            "_view_count": null,
            "_view_module": "@jupyter-widgets/base",
            "_view_module_version": "1.2.0",
            "_view_name": "LayoutView",
            "align_content": null,
            "align_items": null,
            "align_self": null,
            "border": null,
            "bottom": null,
            "display": null,
            "flex": null,
            "flex_flow": null,
            "grid_area": null,
            "grid_auto_columns": null,
            "grid_auto_flow": null,
            "grid_auto_rows": null,
            "grid_column": null,
            "grid_gap": null,
            "grid_row": null,
            "grid_template_areas": null,
            "grid_template_columns": null,
            "grid_template_rows": null,
            "height": null,
            "justify_content": null,
            "justify_items": null,
            "left": null,
            "margin": null,
            "max_height": null,
            "max_width": null,
            "min_height": null,
            "min_width": null,
            "object_fit": null,
            "object_position": null,
            "order": null,
            "overflow": null,
            "overflow_x": null,
            "overflow_y": null,
            "padding": null,
            "right": null,
            "top": null,
            "visibility": null,
            "width": null
          }
        },
        "15ce129528dc42b7814e9f593926836e": {
          "model_module": "@jupyter-widgets/controls",
          "model_name": "ProgressStyleModel",
          "model_module_version": "1.5.0",
          "state": {
            "_model_module": "@jupyter-widgets/controls",
            "_model_module_version": "1.5.0",
            "_model_name": "ProgressStyleModel",
            "_view_count": null,
            "_view_module": "@jupyter-widgets/base",
            "_view_module_version": "1.2.0",
            "_view_name": "StyleView",
            "bar_color": null,
            "description_width": ""
          }
        },
        "d023afd1a05d47f8af9057988ea06e40": {
          "model_module": "@jupyter-widgets/base",
          "model_name": "LayoutModel",
          "model_module_version": "1.2.0",
          "state": {
            "_model_module": "@jupyter-widgets/base",
            "_model_module_version": "1.2.0",
            "_model_name": "LayoutModel",
            "_view_count": null,
            "_view_module": "@jupyter-widgets/base",
            "_view_module_version": "1.2.0",
            "_view_name": "LayoutView",
            "align_content": null,
            "align_items": null,
            "align_self": null,
            "border": null,
            "bottom": null,
            "display": null,
            "flex": null,
            "flex_flow": null,
            "grid_area": null,
            "grid_auto_columns": null,
            "grid_auto_flow": null,
            "grid_auto_rows": null,
            "grid_column": null,
            "grid_gap": null,
            "grid_row": null,
            "grid_template_areas": null,
            "grid_template_columns": null,
            "grid_template_rows": null,
            "height": null,
            "justify_content": null,
            "justify_items": null,
            "left": null,
            "margin": null,
            "max_height": null,
            "max_width": null,
            "min_height": null,
            "min_width": null,
            "object_fit": null,
            "object_position": null,
            "order": null,
            "overflow": null,
            "overflow_x": null,
            "overflow_y": null,
            "padding": null,
            "right": null,
            "top": null,
            "visibility": null,
            "width": null
          }
        },
        "b3044f142b614b7f9d0f6500db9b5a58": {
          "model_module": "@jupyter-widgets/controls",
          "model_name": "DescriptionStyleModel",
          "model_module_version": "1.5.0",
          "state": {
            "_model_module": "@jupyter-widgets/controls",
            "_model_module_version": "1.5.0",
            "_model_name": "DescriptionStyleModel",
            "_view_count": null,
            "_view_module": "@jupyter-widgets/base",
            "_view_module_version": "1.2.0",
            "_view_name": "StyleView",
            "description_width": ""
          }
        },
        "afb1db7298f345368dcdac03b44eb1f8": {
          "model_module": "@jupyter-widgets/controls",
          "model_name": "HBoxModel",
          "model_module_version": "1.5.0",
          "state": {
            "_dom_classes": [],
            "_model_module": "@jupyter-widgets/controls",
            "_model_module_version": "1.5.0",
            "_model_name": "HBoxModel",
            "_view_count": null,
            "_view_module": "@jupyter-widgets/controls",
            "_view_module_version": "1.5.0",
            "_view_name": "HBoxView",
            "box_style": "",
            "children": [
              "IPY_MODEL_2828446766824b6aad633f0d533dc642",
              "IPY_MODEL_801ea37cb04845639583ff034c725363",
              "IPY_MODEL_66fc0b729c394fa5b9e68c4657a7c0ab"
            ],
            "layout": "IPY_MODEL_2566a70efb264ec1941810f5a33631d8"
          }
        },
        "2828446766824b6aad633f0d533dc642": {
          "model_module": "@jupyter-widgets/controls",
          "model_name": "HTMLModel",
          "model_module_version": "1.5.0",
          "state": {
            "_dom_classes": [],
            "_model_module": "@jupyter-widgets/controls",
            "_model_module_version": "1.5.0",
            "_model_name": "HTMLModel",
            "_view_count": null,
            "_view_module": "@jupyter-widgets/controls",
            "_view_module_version": "1.5.0",
            "_view_name": "HTMLView",
            "description": "",
            "description_tooltip": null,
            "layout": "IPY_MODEL_5b7963e471ae4dd49afcc3d30c48e929",
            "placeholder": "​",
            "style": "IPY_MODEL_aeb23a9b8353443fad5ee1a7f16af877",
            "value": "100%"
          }
        },
        "801ea37cb04845639583ff034c725363": {
          "model_module": "@jupyter-widgets/controls",
          "model_name": "FloatProgressModel",
          "model_module_version": "1.5.0",
          "state": {
            "_dom_classes": [],
            "_model_module": "@jupyter-widgets/controls",
            "_model_module_version": "1.5.0",
            "_model_name": "FloatProgressModel",
            "_view_count": null,
            "_view_module": "@jupyter-widgets/controls",
            "_view_module_version": "1.5.0",
            "_view_name": "ProgressView",
            "bar_style": "success",
            "description": "",
            "description_tooltip": null,
            "layout": "IPY_MODEL_5085f889a76043118ed7f4c06b72e605",
            "max": 313,
            "min": 0,
            "orientation": "horizontal",
            "style": "IPY_MODEL_655a75ac3d514e3fa5a0295d2b33c9c8",
            "value": 313
          }
        },
        "66fc0b729c394fa5b9e68c4657a7c0ab": {
          "model_module": "@jupyter-widgets/controls",
          "model_name": "HTMLModel",
          "model_module_version": "1.5.0",
          "state": {
            "_dom_classes": [],
            "_model_module": "@jupyter-widgets/controls",
            "_model_module_version": "1.5.0",
            "_model_name": "HTMLModel",
            "_view_count": null,
            "_view_module": "@jupyter-widgets/controls",
            "_view_module_version": "1.5.0",
            "_view_name": "HTMLView",
            "description": "",
            "description_tooltip": null,
            "layout": "IPY_MODEL_6edcb654a1c548f6bb96a6c910d7d057",
            "placeholder": "​",
            "style": "IPY_MODEL_ae032f7941a04f81b80f7f003b4d34b2",
            "value": " 313/313 [00:01&lt;00:00, 232.35it/s]"
          }
        },
        "2566a70efb264ec1941810f5a33631d8": {
          "model_module": "@jupyter-widgets/base",
          "model_name": "LayoutModel",
          "model_module_version": "1.2.0",
          "state": {
            "_model_module": "@jupyter-widgets/base",
            "_model_module_version": "1.2.0",
            "_model_name": "LayoutModel",
            "_view_count": null,
            "_view_module": "@jupyter-widgets/base",
            "_view_module_version": "1.2.0",
            "_view_name": "LayoutView",
            "align_content": null,
            "align_items": null,
            "align_self": null,
            "border": null,
            "bottom": null,
            "display": null,
            "flex": null,
            "flex_flow": null,
            "grid_area": null,
            "grid_auto_columns": null,
            "grid_auto_flow": null,
            "grid_auto_rows": null,
            "grid_column": null,
            "grid_gap": null,
            "grid_row": null,
            "grid_template_areas": null,
            "grid_template_columns": null,
            "grid_template_rows": null,
            "height": null,
            "justify_content": null,
            "justify_items": null,
            "left": null,
            "margin": null,
            "max_height": null,
            "max_width": null,
            "min_height": null,
            "min_width": null,
            "object_fit": null,
            "object_position": null,
            "order": null,
            "overflow": null,
            "overflow_x": null,
            "overflow_y": null,
            "padding": null,
            "right": null,
            "top": null,
            "visibility": null,
            "width": null
          }
        },
        "5b7963e471ae4dd49afcc3d30c48e929": {
          "model_module": "@jupyter-widgets/base",
          "model_name": "LayoutModel",
          "model_module_version": "1.2.0",
          "state": {
            "_model_module": "@jupyter-widgets/base",
            "_model_module_version": "1.2.0",
            "_model_name": "LayoutModel",
            "_view_count": null,
            "_view_module": "@jupyter-widgets/base",
            "_view_module_version": "1.2.0",
            "_view_name": "LayoutView",
            "align_content": null,
            "align_items": null,
            "align_self": null,
            "border": null,
            "bottom": null,
            "display": null,
            "flex": null,
            "flex_flow": null,
            "grid_area": null,
            "grid_auto_columns": null,
            "grid_auto_flow": null,
            "grid_auto_rows": null,
            "grid_column": null,
            "grid_gap": null,
            "grid_row": null,
            "grid_template_areas": null,
            "grid_template_columns": null,
            "grid_template_rows": null,
            "height": null,
            "justify_content": null,
            "justify_items": null,
            "left": null,
            "margin": null,
            "max_height": null,
            "max_width": null,
            "min_height": null,
            "min_width": null,
            "object_fit": null,
            "object_position": null,
            "order": null,
            "overflow": null,
            "overflow_x": null,
            "overflow_y": null,
            "padding": null,
            "right": null,
            "top": null,
            "visibility": null,
            "width": null
          }
        },
        "aeb23a9b8353443fad5ee1a7f16af877": {
          "model_module": "@jupyter-widgets/controls",
          "model_name": "DescriptionStyleModel",
          "model_module_version": "1.5.0",
          "state": {
            "_model_module": "@jupyter-widgets/controls",
            "_model_module_version": "1.5.0",
            "_model_name": "DescriptionStyleModel",
            "_view_count": null,
            "_view_module": "@jupyter-widgets/base",
            "_view_module_version": "1.2.0",
            "_view_name": "StyleView",
            "description_width": ""
          }
        },
        "5085f889a76043118ed7f4c06b72e605": {
          "model_module": "@jupyter-widgets/base",
          "model_name": "LayoutModel",
          "model_module_version": "1.2.0",
          "state": {
            "_model_module": "@jupyter-widgets/base",
            "_model_module_version": "1.2.0",
            "_model_name": "LayoutModel",
            "_view_count": null,
            "_view_module": "@jupyter-widgets/base",
            "_view_module_version": "1.2.0",
            "_view_name": "LayoutView",
            "align_content": null,
            "align_items": null,
            "align_self": null,
            "border": null,
            "bottom": null,
            "display": null,
            "flex": null,
            "flex_flow": null,
            "grid_area": null,
            "grid_auto_columns": null,
            "grid_auto_flow": null,
            "grid_auto_rows": null,
            "grid_column": null,
            "grid_gap": null,
            "grid_row": null,
            "grid_template_areas": null,
            "grid_template_columns": null,
            "grid_template_rows": null,
            "height": null,
            "justify_content": null,
            "justify_items": null,
            "left": null,
            "margin": null,
            "max_height": null,
            "max_width": null,
            "min_height": null,
            "min_width": null,
            "object_fit": null,
            "object_position": null,
            "order": null,
            "overflow": null,
            "overflow_x": null,
            "overflow_y": null,
            "padding": null,
            "right": null,
            "top": null,
            "visibility": null,
            "width": null
          }
        },
        "655a75ac3d514e3fa5a0295d2b33c9c8": {
          "model_module": "@jupyter-widgets/controls",
          "model_name": "ProgressStyleModel",
          "model_module_version": "1.5.0",
          "state": {
            "_model_module": "@jupyter-widgets/controls",
            "_model_module_version": "1.5.0",
            "_model_name": "ProgressStyleModel",
            "_view_count": null,
            "_view_module": "@jupyter-widgets/base",
            "_view_module_version": "1.2.0",
            "_view_name": "StyleView",
            "bar_color": null,
            "description_width": ""
          }
        },
        "6edcb654a1c548f6bb96a6c910d7d057": {
          "model_module": "@jupyter-widgets/base",
          "model_name": "LayoutModel",
          "model_module_version": "1.2.0",
          "state": {
            "_model_module": "@jupyter-widgets/base",
            "_model_module_version": "1.2.0",
            "_model_name": "LayoutModel",
            "_view_count": null,
            "_view_module": "@jupyter-widgets/base",
            "_view_module_version": "1.2.0",
            "_view_name": "LayoutView",
            "align_content": null,
            "align_items": null,
            "align_self": null,
            "border": null,
            "bottom": null,
            "display": null,
            "flex": null,
            "flex_flow": null,
            "grid_area": null,
            "grid_auto_columns": null,
            "grid_auto_flow": null,
            "grid_auto_rows": null,
            "grid_column": null,
            "grid_gap": null,
            "grid_row": null,
            "grid_template_areas": null,
            "grid_template_columns": null,
            "grid_template_rows": null,
            "height": null,
            "justify_content": null,
            "justify_items": null,
            "left": null,
            "margin": null,
            "max_height": null,
            "max_width": null,
            "min_height": null,
            "min_width": null,
            "object_fit": null,
            "object_position": null,
            "order": null,
            "overflow": null,
            "overflow_x": null,
            "overflow_y": null,
            "padding": null,
            "right": null,
            "top": null,
            "visibility": null,
            "width": null
          }
        },
        "ae032f7941a04f81b80f7f003b4d34b2": {
          "model_module": "@jupyter-widgets/controls",
          "model_name": "DescriptionStyleModel",
          "model_module_version": "1.5.0",
          "state": {
            "_model_module": "@jupyter-widgets/controls",
            "_model_module_version": "1.5.0",
            "_model_name": "DescriptionStyleModel",
            "_view_count": null,
            "_view_module": "@jupyter-widgets/base",
            "_view_module_version": "1.2.0",
            "_view_name": "StyleView",
            "description_width": ""
          }
        },
        "8156604ba77a4c85b32b673b54081276": {
          "model_module": "@jupyter-widgets/controls",
          "model_name": "HBoxModel",
          "model_module_version": "1.5.0",
          "state": {
            "_dom_classes": [],
            "_model_module": "@jupyter-widgets/controls",
            "_model_module_version": "1.5.0",
            "_model_name": "HBoxModel",
            "_view_count": null,
            "_view_module": "@jupyter-widgets/controls",
            "_view_module_version": "1.5.0",
            "_view_name": "HBoxView",
            "box_style": "",
            "children": [
              "IPY_MODEL_bb5669c9e57c4f269720652369377c40",
              "IPY_MODEL_c91a6f56b20246bab554cc31b6e9bcf6",
              "IPY_MODEL_5de022287b60479f8c0a0b64561f4ebe"
            ],
            "layout": "IPY_MODEL_8553a87c8b7f452493ca16cd8b77e3cc"
          }
        },
        "bb5669c9e57c4f269720652369377c40": {
          "model_module": "@jupyter-widgets/controls",
          "model_name": "HTMLModel",
          "model_module_version": "1.5.0",
          "state": {
            "_dom_classes": [],
            "_model_module": "@jupyter-widgets/controls",
            "_model_module_version": "1.5.0",
            "_model_name": "HTMLModel",
            "_view_count": null,
            "_view_module": "@jupyter-widgets/controls",
            "_view_module_version": "1.5.0",
            "_view_name": "HTMLView",
            "description": "",
            "description_tooltip": null,
            "layout": "IPY_MODEL_b6cda715da3e47198b3c854ebb5c663a",
            "placeholder": "​",
            "style": "IPY_MODEL_9dc4d53c1cde4329ae88f91ce109e224",
            "value": "loading . . .: 100%"
          }
        },
        "c91a6f56b20246bab554cc31b6e9bcf6": {
          "model_module": "@jupyter-widgets/controls",
          "model_name": "FloatProgressModel",
          "model_module_version": "1.5.0",
          "state": {
            "_dom_classes": [],
            "_model_module": "@jupyter-widgets/controls",
            "_model_module_version": "1.5.0",
            "_model_name": "FloatProgressModel",
            "_view_count": null,
            "_view_module": "@jupyter-widgets/controls",
            "_view_module_version": "1.5.0",
            "_view_name": "ProgressView",
            "bar_style": "success",
            "description": "",
            "description_tooltip": null,
            "layout": "IPY_MODEL_f7527d25e6dc48d4af197ff2658342b3",
            "max": 313,
            "min": 0,
            "orientation": "horizontal",
            "style": "IPY_MODEL_f6661bb00c744aca9f9ea8023e58dc84",
            "value": 313
          }
        },
        "5de022287b60479f8c0a0b64561f4ebe": {
          "model_module": "@jupyter-widgets/controls",
          "model_name": "HTMLModel",
          "model_module_version": "1.5.0",
          "state": {
            "_dom_classes": [],
            "_model_module": "@jupyter-widgets/controls",
            "_model_module_version": "1.5.0",
            "_model_name": "HTMLModel",
            "_view_count": null,
            "_view_module": "@jupyter-widgets/controls",
            "_view_module_version": "1.5.0",
            "_view_name": "HTMLView",
            "description": "",
            "description_tooltip": null,
            "layout": "IPY_MODEL_93c82787727d4a279312fbb2053cc630",
            "placeholder": "​",
            "style": "IPY_MODEL_0d308d502e834a018faee83759734a18",
            "value": " 313/313 [00:05&lt;00:00, 51.79it/s]"
          }
        },
        "8553a87c8b7f452493ca16cd8b77e3cc": {
          "model_module": "@jupyter-widgets/base",
          "model_name": "LayoutModel",
          "model_module_version": "1.2.0",
          "state": {
            "_model_module": "@jupyter-widgets/base",
            "_model_module_version": "1.2.0",
            "_model_name": "LayoutModel",
            "_view_count": null,
            "_view_module": "@jupyter-widgets/base",
            "_view_module_version": "1.2.0",
            "_view_name": "LayoutView",
            "align_content": null,
            "align_items": null,
            "align_self": null,
            "border": null,
            "bottom": null,
            "display": null,
            "flex": null,
            "flex_flow": null,
            "grid_area": null,
            "grid_auto_columns": null,
            "grid_auto_flow": null,
            "grid_auto_rows": null,
            "grid_column": null,
            "grid_gap": null,
            "grid_row": null,
            "grid_template_areas": null,
            "grid_template_columns": null,
            "grid_template_rows": null,
            "height": null,
            "justify_content": null,
            "justify_items": null,
            "left": null,
            "margin": null,
            "max_height": null,
            "max_width": null,
            "min_height": null,
            "min_width": null,
            "object_fit": null,
            "object_position": null,
            "order": null,
            "overflow": null,
            "overflow_x": null,
            "overflow_y": null,
            "padding": null,
            "right": null,
            "top": null,
            "visibility": null,
            "width": null
          }
        },
        "b6cda715da3e47198b3c854ebb5c663a": {
          "model_module": "@jupyter-widgets/base",
          "model_name": "LayoutModel",
          "model_module_version": "1.2.0",
          "state": {
            "_model_module": "@jupyter-widgets/base",
            "_model_module_version": "1.2.0",
            "_model_name": "LayoutModel",
            "_view_count": null,
            "_view_module": "@jupyter-widgets/base",
            "_view_module_version": "1.2.0",
            "_view_name": "LayoutView",
            "align_content": null,
            "align_items": null,
            "align_self": null,
            "border": null,
            "bottom": null,
            "display": null,
            "flex": null,
            "flex_flow": null,
            "grid_area": null,
            "grid_auto_columns": null,
            "grid_auto_flow": null,
            "grid_auto_rows": null,
            "grid_column": null,
            "grid_gap": null,
            "grid_row": null,
            "grid_template_areas": null,
            "grid_template_columns": null,
            "grid_template_rows": null,
            "height": null,
            "justify_content": null,
            "justify_items": null,
            "left": null,
            "margin": null,
            "max_height": null,
            "max_width": null,
            "min_height": null,
            "min_width": null,
            "object_fit": null,
            "object_position": null,
            "order": null,
            "overflow": null,
            "overflow_x": null,
            "overflow_y": null,
            "padding": null,
            "right": null,
            "top": null,
            "visibility": null,
            "width": null
          }
        },
        "9dc4d53c1cde4329ae88f91ce109e224": {
          "model_module": "@jupyter-widgets/controls",
          "model_name": "DescriptionStyleModel",
          "model_module_version": "1.5.0",
          "state": {
            "_model_module": "@jupyter-widgets/controls",
            "_model_module_version": "1.5.0",
            "_model_name": "DescriptionStyleModel",
            "_view_count": null,
            "_view_module": "@jupyter-widgets/base",
            "_view_module_version": "1.2.0",
            "_view_name": "StyleView",
            "description_width": ""
          }
        },
        "f7527d25e6dc48d4af197ff2658342b3": {
          "model_module": "@jupyter-widgets/base",
          "model_name": "LayoutModel",
          "model_module_version": "1.2.0",
          "state": {
            "_model_module": "@jupyter-widgets/base",
            "_model_module_version": "1.2.0",
            "_model_name": "LayoutModel",
            "_view_count": null,
            "_view_module": "@jupyter-widgets/base",
            "_view_module_version": "1.2.0",
            "_view_name": "LayoutView",
            "align_content": null,
            "align_items": null,
            "align_self": null,
            "border": null,
            "bottom": null,
            "display": null,
            "flex": null,
            "flex_flow": null,
            "grid_area": null,
            "grid_auto_columns": null,
            "grid_auto_flow": null,
            "grid_auto_rows": null,
            "grid_column": null,
            "grid_gap": null,
            "grid_row": null,
            "grid_template_areas": null,
            "grid_template_columns": null,
            "grid_template_rows": null,
            "height": null,
            "justify_content": null,
            "justify_items": null,
            "left": null,
            "margin": null,
            "max_height": null,
            "max_width": null,
            "min_height": null,
            "min_width": null,
            "object_fit": null,
            "object_position": null,
            "order": null,
            "overflow": null,
            "overflow_x": null,
            "overflow_y": null,
            "padding": null,
            "right": null,
            "top": null,
            "visibility": null,
            "width": null
          }
        },
        "f6661bb00c744aca9f9ea8023e58dc84": {
          "model_module": "@jupyter-widgets/controls",
          "model_name": "ProgressStyleModel",
          "model_module_version": "1.5.0",
          "state": {
            "_model_module": "@jupyter-widgets/controls",
            "_model_module_version": "1.5.0",
            "_model_name": "ProgressStyleModel",
            "_view_count": null,
            "_view_module": "@jupyter-widgets/base",
            "_view_module_version": "1.2.0",
            "_view_name": "StyleView",
            "bar_color": null,
            "description_width": ""
          }
        },
        "93c82787727d4a279312fbb2053cc630": {
          "model_module": "@jupyter-widgets/base",
          "model_name": "LayoutModel",
          "model_module_version": "1.2.0",
          "state": {
            "_model_module": "@jupyter-widgets/base",
            "_model_module_version": "1.2.0",
            "_model_name": "LayoutModel",
            "_view_count": null,
            "_view_module": "@jupyter-widgets/base",
            "_view_module_version": "1.2.0",
            "_view_name": "LayoutView",
            "align_content": null,
            "align_items": null,
            "align_self": null,
            "border": null,
            "bottom": null,
            "display": null,
            "flex": null,
            "flex_flow": null,
            "grid_area": null,
            "grid_auto_columns": null,
            "grid_auto_flow": null,
            "grid_auto_rows": null,
            "grid_column": null,
            "grid_gap": null,
            "grid_row": null,
            "grid_template_areas": null,
            "grid_template_columns": null,
            "grid_template_rows": null,
            "height": null,
            "justify_content": null,
            "justify_items": null,
            "left": null,
            "margin": null,
            "max_height": null,
            "max_width": null,
            "min_height": null,
            "min_width": null,
            "object_fit": null,
            "object_position": null,
            "order": null,
            "overflow": null,
            "overflow_x": null,
            "overflow_y": null,
            "padding": null,
            "right": null,
            "top": null,
            "visibility": null,
            "width": null
          }
        },
        "0d308d502e834a018faee83759734a18": {
          "model_module": "@jupyter-widgets/controls",
          "model_name": "DescriptionStyleModel",
          "model_module_version": "1.5.0",
          "state": {
            "_model_module": "@jupyter-widgets/controls",
            "_model_module_version": "1.5.0",
            "_model_name": "DescriptionStyleModel",
            "_view_count": null,
            "_view_module": "@jupyter-widgets/base",
            "_view_module_version": "1.2.0",
            "_view_name": "StyleView",
            "description_width": ""
          }
        }
      }
    }
  },
  "cells": [
    {
      "cell_type": "markdown",
      "metadata": {
        "id": "view-in-github",
        "colab_type": "text"
      },
      "source": [
        "<a href=\"https://colab.research.google.com/github/jixaw31/marketplace/blob/master/MyTorchVision.ipynb\" target=\"_parent\"><img src=\"https://colab.research.google.com/assets/colab-badge.svg\" alt=\"Open In Colab\"/></a>"
      ]
    },
    {
      "cell_type": "code",
      "execution_count": null,
      "metadata": {
        "id": "vQt-6L0bnoIv"
      },
      "outputs": [],
      "source": [
        "import torch\n",
        "from torch import nn\n",
        "import torchvision\n",
        "from torchvision import transforms\n",
        "from torchvision.transforms import ToTensor\n",
        "import matplotlib.pyplot as plt\n"
      ]
    },
    {
      "cell_type": "code",
      "source": [
        "from torchvision import datasets\n",
        "\n",
        "train_data = datasets.FashionMNIST(root = 'data',\n",
        "                                   train= True,\n",
        "                                   transform = torchvision.transforms.ToTensor(),\n",
        "                                   target_transform=None, download= True)\n",
        "\n",
        "test_data = datasets.FashionMNIST(root = 'data',\n",
        "                                   train= False,\n",
        "                                   transform = torchvision.transforms.ToTensor(),\n",
        "                                   target_transform=None, download= True)\n"
      ],
      "metadata": {
        "id": "NU04_CwvsqV6",
        "colab": {
          "base_uri": "https://localhost:8080/"
        },
        "outputId": "b68a5d0c-75c9-461e-8497-6d98225f6dd2"
      },
      "execution_count": null,
      "outputs": [
        {
          "output_type": "stream",
          "name": "stdout",
          "text": [
            "Downloading http://fashion-mnist.s3-website.eu-central-1.amazonaws.com/train-images-idx3-ubyte.gz\n",
            "Downloading http://fashion-mnist.s3-website.eu-central-1.amazonaws.com/train-images-idx3-ubyte.gz to data/FashionMNIST/raw/train-images-idx3-ubyte.gz\n"
          ]
        },
        {
          "output_type": "stream",
          "name": "stderr",
          "text": [
            "100%|██████████| 26421880/26421880 [00:01<00:00, 16288317.66it/s]\n"
          ]
        },
        {
          "output_type": "stream",
          "name": "stdout",
          "text": [
            "Extracting data/FashionMNIST/raw/train-images-idx3-ubyte.gz to data/FashionMNIST/raw\n",
            "\n",
            "Downloading http://fashion-mnist.s3-website.eu-central-1.amazonaws.com/train-labels-idx1-ubyte.gz\n",
            "Downloading http://fashion-mnist.s3-website.eu-central-1.amazonaws.com/train-labels-idx1-ubyte.gz to data/FashionMNIST/raw/train-labels-idx1-ubyte.gz\n"
          ]
        },
        {
          "output_type": "stream",
          "name": "stderr",
          "text": [
            "100%|██████████| 29515/29515 [00:00<00:00, 309348.00it/s]\n"
          ]
        },
        {
          "output_type": "stream",
          "name": "stdout",
          "text": [
            "Extracting data/FashionMNIST/raw/train-labels-idx1-ubyte.gz to data/FashionMNIST/raw\n",
            "\n",
            "Downloading http://fashion-mnist.s3-website.eu-central-1.amazonaws.com/t10k-images-idx3-ubyte.gz\n",
            "Downloading http://fashion-mnist.s3-website.eu-central-1.amazonaws.com/t10k-images-idx3-ubyte.gz to data/FashionMNIST/raw/t10k-images-idx3-ubyte.gz\n"
          ]
        },
        {
          "output_type": "stream",
          "name": "stderr",
          "text": [
            "100%|██████████| 4422102/4422102 [00:00<00:00, 5476912.28it/s]\n"
          ]
        },
        {
          "output_type": "stream",
          "name": "stdout",
          "text": [
            "Extracting data/FashionMNIST/raw/t10k-images-idx3-ubyte.gz to data/FashionMNIST/raw\n",
            "\n",
            "Downloading http://fashion-mnist.s3-website.eu-central-1.amazonaws.com/t10k-labels-idx1-ubyte.gz\n",
            "Downloading http://fashion-mnist.s3-website.eu-central-1.amazonaws.com/t10k-labels-idx1-ubyte.gz to data/FashionMNIST/raw/t10k-labels-idx1-ubyte.gz\n"
          ]
        },
        {
          "output_type": "stream",
          "name": "stderr",
          "text": [
            "100%|██████████| 5148/5148 [00:00<00:00, 1451874.46it/s]\n"
          ]
        },
        {
          "output_type": "stream",
          "name": "stdout",
          "text": [
            "Extracting data/FashionMNIST/raw/t10k-labels-idx1-ubyte.gz to data/FashionMNIST/raw\n",
            "\n"
          ]
        }
      ]
    },
    {
      "cell_type": "code",
      "source": [
        "len(train_data), len(test_data)\n",
        "train_data_0 = train_data[0]\n",
        "train_data_0[0]\n",
        "image, label = train_data_0\n",
        "image, label\n",
        "train_data_0\n",
        "train_data.classes\n",
        "train_data.class_to_idx\n",
        "train_data.targets\n",
        "image.size(), label\n",
        "class_names = train_data.classes\n",
        "class_names"
      ],
      "metadata": {
        "colab": {
          "base_uri": "https://localhost:8080/"
        },
        "id": "5tlS7cf3fA7V",
        "outputId": "3ec44521-5be5-4fb2-b83b-c2c8562e6b5e"
      },
      "execution_count": null,
      "outputs": [
        {
          "output_type": "execute_result",
          "data": {
            "text/plain": [
              "['T-shirt/top',\n",
              " 'Trouser',\n",
              " 'Pullover',\n",
              " 'Dress',\n",
              " 'Coat',\n",
              " 'Sandal',\n",
              " 'Shirt',\n",
              " 'Sneaker',\n",
              " 'Bag',\n",
              " 'Ankle boot']"
            ]
          },
          "metadata": {},
          "execution_count": 3
        }
      ]
    },
    {
      "cell_type": "code",
      "source": [
        "# train_data = train_data[1]\n",
        "image, label = train_data[1]\n",
        "\n",
        "# image_permuted = torch.permute(image, (1 ,2 ,0))\n",
        "# plt.imshow(image_permuted)\n",
        "plt.imshow(image.squeeze()), image.squeeze().shape"
      ],
      "metadata": {
        "colab": {
          "base_uri": "https://localhost:8080/"
        },
        "id": "2HAEE_3djWXV",
        "outputId": "957a9cdf-70ac-4be1-94fe-f93bbfe65534"
      },
      "execution_count": null,
      "outputs": [
        {
          "output_type": "execute_result",
          "data": {
            "text/plain": [
              "(<matplotlib.image.AxesImage at 0x79cd9f659a50>, torch.Size([28, 28]))"
            ]
          },
          "metadata": {},
          "execution_count": 4
        },
        {
          "output_type": "display_data",
          "data": {
            "text/plain": [
              "<Figure size 640x480 with 1 Axes>"
            ],
            "image/png": "[encoded data removed]"
          },
          "metadata": {}
        }
      ]
    },
    {
      "cell_type": "code",
      "source": [],
      "metadata": {
        "id": "gI2X85fccbDe"
      },
      "execution_count": null,
      "outputs": []
    },
    {
      "cell_type": "code",
      "source": [
        "plt.imshow(image.squeeze(), cmap='gray')\n",
        "plt.title(class_names[label])\n",
        "plt.axis(False)\n"
      ],
      "metadata": {
        "colab": {
          "base_uri": "https://localhost:8080/"
        },
        "id": "WMp6mVl0mJt9",
        "outputId": "c4eeb48a-f556-4501-dddb-67a6d19ad5f8"
      },
      "execution_count": null,
      "outputs": [
        {
          "output_type": "execute_result",
          "data": {
            "text/plain": [
              "(-0.5, 27.5, 27.5, -0.5)"
            ]
          },
          "metadata": {},
          "execution_count": 5
        },
        {
          "output_type": "display_data",
          "data": {
            "text/plain": [
              "<Figure size 640x480 with 1 Axes>"
            ],
            "image/png": "[encoded data removed]"
          },
          "metadata": {}
        }
      ]
    },
    {
      "cell_type": "code",
      "source": [
        "# plot more images\n",
        "# torch.manual_seed(42)\n",
        "# fig = plt.figure(figsize=(9, 9))\n",
        "# rows, cols = 4, 4\n",
        "# for i in range(1, rows*cols + 1):\n",
        "#     random_idx = torch.randint(0, len(train_data), size=[1]).item()\n",
        "#     # print(random_idx)\n",
        "#     image, label = train_data[random_idx]\n",
        "#     fig.add_subplot(rows, cols, i)\n",
        "#     plt.imshow(image.squeeze(), cmap='gray')\n",
        "#     plt.title(class_names[label])\n",
        "#     plt.axis(False)"
      ],
      "metadata": {
        "id": "Z9AVB0IUnygG"
      },
      "execution_count": null,
      "outputs": []
    },
    {
      "cell_type": "code",
      "source": [
        "from torch.utils.data import DataLoader\n",
        "train_dataloader = DataLoader(train_data, batch_size=32, shuffle=False)\n",
        "test_dataloader = DataLoader(test_data, batch_size=32, shuffle=False)\n",
        "# images, labels = next(iter(train_dataloader))\n",
        "# print(f\"Feature batch shape: {images.size()}\")\n",
        "# print(f\"Labels batch shape: {labels.size()}\")\n",
        "# print(f\"number of batches: {len(train_dataloader)}\")\n",
        "# img = images[0].squeeze()\n",
        "# label = labels[0]\n",
        "# plt.imshow(img, cmap=\"gray\")\n",
        "# plt.axis(False)\n",
        "# plt.title(class_names[label])\n",
        "# plt.show()\n",
        "# print(f\"Label: {class_names[label]}\")\n",
        "\n",
        "\n",
        "\n",
        "\n"
      ],
      "metadata": {
        "id": "BDj9yQj2unHg"
      },
      "execution_count": null,
      "outputs": []
    },
    {
      "cell_type": "code",
      "source": [
        "# train_features_batch, train_labels_batch = next(iter(train_dataloader))\n",
        "# print(train_features_batch.shape, train_labels_batch.shape)\n",
        "# # torch.manual_seed(42)\n",
        "# random_idx = torch.randint(0, len(train_features_batch), size=[1]).item()\n",
        "# img, label = train_features_batch[random_idx], train_labels_batch[random_idx]\n",
        "# plt.imshow(img.squeeze(), cmap=\"gray\")\n",
        "# plt.axis(False)\n",
        "# plt.title(class_names[label])\n",
        "# plt.show()"
      ],
      "metadata": {
        "id": "nEg25umLykKN"
      },
      "execution_count": null,
      "outputs": []
    },
    {
      "cell_type": "code",
      "source": [
        "# input = torch.randn(32, 1, 5, 5)\n",
        "# # print(input.size())\n",
        "# flatten_0 = nn.Flatten()\n",
        "# flatten_1 = nn.Flatten(0, 2)\n",
        "# output = flatten_0(input)\n",
        "# output_1 = flatten_1(input)\n",
        "# print(output.size(),output_1.size())\n",
        "# input = train_features_batch[0]\n",
        "# input.shape\n",
        "# flatten_model = nn.Flatten()\n",
        "# output = flatten_model(input)\n",
        "# output.shape"
      ],
      "metadata": {
        "id": "WSX3GFn2Gt90"
      },
      "execution_count": null,
      "outputs": []
    },
    {
      "cell_type": "code",
      "source": [
        "class FashionMNISTModel(nn.Module):\n",
        "    def __init__(self, input_shape:int,\n",
        "                 hidden_units:int,\n",
        "                 output_shape:int) -> None:\n",
        "        super().__init__()\n",
        "        self.layer_stack = nn.Sequential(\n",
        "            nn.Flatten(),\n",
        "            nn.Linear(in_features= input_shape,\n",
        "                      out_features = hidden_units),\n",
        "            nn.Linear(in_features= hidden_units,\n",
        "                      out_features = output_shape),\n",
        "        )\n",
        "\n",
        "    def forward(self, x):\n",
        "        return self.layer_stack(x)"
      ],
      "metadata": {
        "id": "8_fT3udfJYJS"
      },
      "execution_count": null,
      "outputs": []
    },
    {
      "cell_type": "code",
      "source": [
        "class FashionMNISTModel_1(nn.Module):\n",
        "    def __init__(self, input_shape:int,\n",
        "                 hidden_units:int,\n",
        "                 output_shape:int) -> None:\n",
        "        super().__init__()\n",
        "        self.layer_stack = nn.Sequential(\n",
        "            nn.Flatten(),\n",
        "            nn.Linear(in_features= input_shape,\n",
        "                      out_features = hidden_units),\n",
        "            nn.ReLU(),\n",
        "            nn.Linear(in_features= hidden_units,\n",
        "                      out_features = output_shape),\n",
        "            nn.ReLU(),\n",
        "        )\n",
        "\n",
        "    def forward(self, x):\n",
        "        return self.layer_stack(x)"
      ],
      "metadata": {
        "id": "nfHwjQGT3LVK"
      },
      "execution_count": null,
      "outputs": []
    },
    {
      "cell_type": "code",
      "source": [
        "model_MNIST_0 = FashionMNISTModel(\n",
        "    input_shape = 784,\n",
        "    hidden_units = 10,\n",
        "    output_shape =len(class_names)\n",
        ").to('cpu')\n",
        "model_MNIST_0\n",
        "# with torch.inference_mode():\n",
        "#     y_pred = model_MNIST_0()"
      ],
      "metadata": {
        "colab": {
          "base_uri": "https://localhost:8080/"
        },
        "id": "R2nZo3w5MgXM",
        "outputId": "1a6e4792-289b-461a-b27c-c4a63ed5014d"
      },
      "execution_count": null,
      "outputs": [
        {
          "output_type": "execute_result",
          "data": {
            "text/plain": [
              "FashionMNISTModel(\n",
              "  (layer_stack): Sequential(\n",
              "    (0): Flatten(start_dim=1, end_dim=-1)\n",
              "    (1): Linear(in_features=784, out_features=10, bias=True)\n",
              "    (2): Linear(in_features=10, out_features=10, bias=True)\n",
              "  )\n",
              ")"
            ]
          },
          "metadata": {},
          "execution_count": 12
        }
      ]
    },
    {
      "cell_type": "code",
      "source": [
        "model_1 = FashionMNISTModel_1(input_shape = 784,\n",
        "                              hidden_units= 10,\n",
        "                              output_shape = len(class_names))\n",
        "\n",
        "# next(model_1.parameters()).device"
      ],
      "metadata": {
        "id": "5mfyv93W3a_W"
      },
      "execution_count": null,
      "outputs": []
    },
    {
      "cell_type": "code",
      "source": [
        "with torch.inference_mode():\n",
        "    dummy_x = torch.rand(32, 1, 28, 28)\n",
        "    y_logits = model_MNIST_0(dummy_x)\n",
        "    # print(y_logits)\n"
      ],
      "metadata": {
        "id": "4ho576shMxoq"
      },
      "execution_count": null,
      "outputs": []
    },
    {
      "cell_type": "code",
      "source": [
        "model_MNIST_0.state_dict()"
      ],
      "metadata": {
        "id": "nzPwd_4rRUeC",
        "colab": {
          "base_uri": "https://localhost:8080/"
        },
        "outputId": "b3360e44-db8c-45a8-a487-3dc19f1e9925"
      },
      "execution_count": null,
      "outputs": [
        {
          "output_type": "execute_result",
          "data": {
            "text/plain": [
              "OrderedDict([('layer_stack.1.weight',\n",
              "              tensor([[-0.0319,  0.0278, -0.0188,  ..., -0.0305,  0.0010, -0.0203],\n",
              "                      [ 0.0085,  0.0154,  0.0233,  ..., -0.0020,  0.0311, -0.0142],\n",
              "                      [-0.0084,  0.0183,  0.0352,  ..., -0.0057, -0.0174, -0.0151],\n",
              "                      ...,\n",
              "                      [ 0.0204,  0.0035, -0.0166,  ...,  0.0257,  0.0232,  0.0343],\n",
              "                      [-0.0137,  0.0082, -0.0170,  ..., -0.0007,  0.0316, -0.0118],\n",
              "                      [-0.0207,  0.0171, -0.0302,  ...,  0.0100, -0.0331,  0.0018]])),\n",
              "             ('layer_stack.1.bias',\n",
              "              tensor([ 0.0222, -0.0017, -0.0268,  0.0106,  0.0166,  0.0311, -0.0347,  0.0280,\n",
              "                      -0.0354, -0.0060])),\n",
              "             ('layer_stack.2.weight',\n",
              "              tensor([[-0.2244, -0.0737, -0.0149,  0.0721, -0.0484,  0.1648,  0.0230, -0.1600,\n",
              "                        0.1750,  0.1748],\n",
              "                      [ 0.1021,  0.0595, -0.1041, -0.2410,  0.1935,  0.0400,  0.0233, -0.2956,\n",
              "                       -0.1229,  0.0470],\n",
              "                      [-0.0350,  0.1462, -0.0051, -0.1935, -0.0842,  0.2455,  0.2087, -0.0086,\n",
              "                        0.0631, -0.2366],\n",
              "                      [ 0.2038,  0.2409, -0.1460, -0.0538,  0.0932, -0.3025,  0.2648, -0.1986,\n",
              "                        0.1478,  0.0872],\n",
              "                      [ 0.2188,  0.2857,  0.0171,  0.1625, -0.3045,  0.0232,  0.1841, -0.2393,\n",
              "                       -0.2784, -0.1051],\n",
              "                      [-0.0222, -0.0261,  0.0629, -0.2972,  0.1655,  0.1215, -0.1261,  0.2350,\n",
              "                        0.0388, -0.2438],\n",
              "                      [-0.1167,  0.1877,  0.0478, -0.2866, -0.0988, -0.1254, -0.1235,  0.0390,\n",
              "                       -0.1920,  0.0060],\n",
              "                      [ 0.0983, -0.0414, -0.0154, -0.2895, -0.1451, -0.2379,  0.3055,  0.0083,\n",
              "                        0.2243,  0.0204],\n",
              "                      [ 0.0514,  0.1261,  0.1710, -0.2450, -0.2600, -0.0501, -0.2850,  0.1031,\n",
              "                        0.1860,  0.2292],\n",
              "                      [ 0.1028,  0.1912,  0.2480,  0.0961,  0.2202, -0.1055,  0.2458,  0.0646,\n",
              "                        0.2293,  0.0447]])),\n",
              "             ('layer_stack.2.bias',\n",
              "              tensor([-0.2521,  0.1693,  0.1176,  0.1540, -0.1356, -0.1804, -0.0560, -0.2564,\n",
              "                      -0.1984,  0.0509]))])"
            ]
          },
          "metadata": {},
          "execution_count": 15
        }
      ]
    },
    {
      "cell_type": "code",
      "source": [
        "import requests\n",
        "from pathlib import Path\n",
        "\n",
        "# Download helper functions from Learn PyTorch repo (if not already downloaded)\n",
        "if Path(\"helper_functions.py\").is_file():\n",
        "  print(\"helper_functions.py already exists, skipping download\")\n",
        "else:\n",
        "  print(\"Downloading helper_functions.py\")\n",
        "  # Note: you need the \"raw\" GitHub URL for this to work\n",
        "  request = requests.get(\"https://raw.githubusercontent.com/mrdbourke/pytorch-deep-learning/main/helper_functions.py\")\n",
        "  with open(\"helper_functions.py\", \"wb\") as f:\n",
        "    f.write(request.content)"
      ],
      "metadata": {
        "id": "Aay0SnpzUP6Y",
        "colab": {
          "base_uri": "https://localhost:8080/"
        },
        "outputId": "4b4b0caf-f9e9-43b4-d253-50ae7eb0e495"
      },
      "execution_count": null,
      "outputs": [
        {
          "output_type": "stream",
          "name": "stdout",
          "text": [
            "Downloading helper_functions.py\n"
          ]
        }
      ]
    },
    {
      "cell_type": "code",
      "source": [
        "from helper_functions import accuracy_fn"
      ],
      "metadata": {
        "id": "0oDaQE3CUTVl"
      },
      "execution_count": null,
      "outputs": []
    },
    {
      "cell_type": "code",
      "source": [
        "\n",
        "# loss & optimizer\n",
        "loss_fn = nn.CrossEntropyLoss()\n",
        "optimizer = torch.optim.SGD(model_MNIST_0.parameters(), lr = 0.1)\n",
        "accuracy_fn"
      ],
      "metadata": {
        "id": "cTqjUqMWUetj",
        "colab": {
          "base_uri": "https://localhost:8080/"
        },
        "outputId": "2da8c4bd-bf76-4822-a52e-a1db408007a8"
      },
      "execution_count": null,
      "outputs": [
        {
          "output_type": "execute_result",
          "data": {
            "text/plain": [
              "<function helper_functions.accuracy_fn(y_true, y_pred)>"
            ],
            "text/html": [
              "<div style=\"max-width:800px; border: 1px solid var(--colab-border-color);\"><style>\n",
              "      pre.function-repr-contents {\n",
              "        overflow-x: auto;\n",
              "        padding: 8px 12px;\n",
              "        max-height: 500px;\n",
              "      }\n",
              "\n",
              "      pre.function-repr-contents.function-repr-contents-collapsed {\n",
              "        cursor: pointer;\n",
              "        max-height: 100px;\n",
              "      }\n",
              "    </style>\n",
              "    <pre style=\"white-space: initial; background:\n",
              "         var(--colab-secondary-surface-color); padding: 8px 12px;\n",
              "         border-bottom: 1px solid var(--colab-border-color);\"><b>helper_functions.accuracy_fn</b><br/>def accuracy_fn(y_true, y_pred)</pre><pre class=\"function-repr-contents function-repr-contents-collapsed\" style=\"\"><a class=\"filepath\" style=\"display:none\" href=\"#\">/content/helper_functions.py</a>Calculates accuracy between truth labels and predictions.\n",
              "\n",
              "Args:\n",
              "    y_true (torch.Tensor): Truth labels for predictions.\n",
              "    y_pred (torch.Tensor): Predictions to be compared to predictions.\n",
              "\n",
              "Returns:\n",
              "    [torch.float]: Accuracy value between y_true and y_pred, e.g. 78.45</pre>\n",
              "      <script>\n",
              "      if (google.colab.kernel.accessAllowed && google.colab.files && google.colab.files.view) {\n",
              "        for (const element of document.querySelectorAll('.filepath')) {\n",
              "          element.style.display = 'block'\n",
              "          element.onclick = (event) => {\n",
              "            event.preventDefault();\n",
              "            event.stopPropagation();\n",
              "            google.colab.files.view(element.textContent, 98);\n",
              "          };\n",
              "        }\n",
              "      }\n",
              "      for (const element of document.querySelectorAll('.function-repr-contents')) {\n",
              "        element.onclick = (event) => {\n",
              "          event.preventDefault();\n",
              "          event.stopPropagation();\n",
              "          element.classList.toggle('function-repr-contents-collapsed');\n",
              "        };\n",
              "      }\n",
              "      </script>\n",
              "      </div>"
            ]
          },
          "metadata": {},
          "execution_count": 18
        }
      ]
    },
    {
      "cell_type": "code",
      "source": [
        "# loss & optimizer\n",
        "loss_fn = nn.CrossEntropyLoss()\n",
        "optimizer_1 = torch.optim.SGD(model_1.parameters(), lr = 0.1)\n",
        "optimizer_0 = torch.optim.SGD(model_MNIST_0.parameters(), lr = 0.1)\n"
      ],
      "metadata": {
        "id": "KWIimcsL52uw"
      },
      "execution_count": null,
      "outputs": []
    },
    {
      "cell_type": "code",
      "source": [
        "from timeit import default_timer as  timer\n",
        "def print_train_time(start: float,\n",
        "                    end: float,\n",
        "                    device: torch.device = None):\n",
        "    time_difference = end - start\n",
        "    print(f\"train time on device : {device}, {time_difference:.3f}\")\n",
        "\n",
        "start_time = timer()\n",
        "#  the code we wanna calculate the time..\n",
        "end_time = timer()\n",
        "print_train_time(start_time, end_time, device='cpu')\n"
      ],
      "metadata": {
        "id": "ePT5EJuZSTOr",
        "colab": {
          "base_uri": "https://localhost:8080/"
        },
        "outputId": "54032cb9-b502-4fad-ad25-f89f0f0b6227"
      },
      "execution_count": null,
      "outputs": [
        {
          "output_type": "stream",
          "name": "stdout",
          "text": [
            "train time on device : cpu, 0.000\n"
          ]
        }
      ]
    },
    {
      "cell_type": "code",
      "source": [
        "# model_MNIST_0.to('cuda')\n",
        "model_MNIST_0.state_dict()"
      ],
      "metadata": {
        "id": "jqbFLE_jxAkB",
        "colab": {
          "base_uri": "https://localhost:8080/"
        },
        "outputId": "93c031c7-dfeb-4b67-a55c-69eefaece410"
      },
      "execution_count": null,
      "outputs": [
        {
          "output_type": "execute_result",
          "data": {
            "text/plain": [
              "OrderedDict([('layer_stack.1.weight',\n",
              "              tensor([[-0.0319,  0.0278, -0.0188,  ..., -0.0305,  0.0010, -0.0203],\n",
              "                      [ 0.0085,  0.0154,  0.0233,  ..., -0.0020,  0.0311, -0.0142],\n",
              "                      [-0.0084,  0.0183,  0.0352,  ..., -0.0057, -0.0174, -0.0151],\n",
              "                      ...,\n",
              "                      [ 0.0204,  0.0035, -0.0166,  ...,  0.0257,  0.0232,  0.0343],\n",
              "                      [-0.0137,  0.0082, -0.0170,  ..., -0.0007,  0.0316, -0.0118],\n",
              "                      [-0.0207,  0.0171, -0.0302,  ...,  0.0100, -0.0331,  0.0018]])),\n",
              "             ('layer_stack.1.bias',\n",
              "              tensor([ 0.0222, -0.0017, -0.0268,  0.0106,  0.0166,  0.0311, -0.0347,  0.0280,\n",
              "                      -0.0354, -0.0060])),\n",
              "             ('layer_stack.2.weight',\n",
              "              tensor([[-0.2244, -0.0737, -0.0149,  0.0721, -0.0484,  0.1648,  0.0230, -0.1600,\n",
              "                        0.1750,  0.1748],\n",
              "                      [ 0.1021,  0.0595, -0.1041, -0.2410,  0.1935,  0.0400,  0.0233, -0.2956,\n",
              "                       -0.1229,  0.0470],\n",
              "                      [-0.0350,  0.1462, -0.0051, -0.1935, -0.0842,  0.2455,  0.2087, -0.0086,\n",
              "                        0.0631, -0.2366],\n",
              "                      [ 0.2038,  0.2409, -0.1460, -0.0538,  0.0932, -0.3025,  0.2648, -0.1986,\n",
              "                        0.1478,  0.0872],\n",
              "                      [ 0.2188,  0.2857,  0.0171,  0.1625, -0.3045,  0.0232,  0.1841, -0.2393,\n",
              "                       -0.2784, -0.1051],\n",
              "                      [-0.0222, -0.0261,  0.0629, -0.2972,  0.1655,  0.1215, -0.1261,  0.2350,\n",
              "                        0.0388, -0.2438],\n",
              "                      [-0.1167,  0.1877,  0.0478, -0.2866, -0.0988, -0.1254, -0.1235,  0.0390,\n",
              "                       -0.1920,  0.0060],\n",
              "                      [ 0.0983, -0.0414, -0.0154, -0.2895, -0.1451, -0.2379,  0.3055,  0.0083,\n",
              "                        0.2243,  0.0204],\n",
              "                      [ 0.0514,  0.1261,  0.1710, -0.2450, -0.2600, -0.0501, -0.2850,  0.1031,\n",
              "                        0.1860,  0.2292],\n",
              "                      [ 0.1028,  0.1912,  0.2480,  0.0961,  0.2202, -0.1055,  0.2458,  0.0646,\n",
              "                        0.2293,  0.0447]])),\n",
              "             ('layer_stack.2.bias',\n",
              "              tensor([-0.2521,  0.1693,  0.1176,  0.1540, -0.1356, -0.1804, -0.0560, -0.2564,\n",
              "                      -0.1984,  0.0509]))])"
            ]
          },
          "metadata": {},
          "execution_count": 21
        }
      ]
    },
    {
      "cell_type": "code",
      "source": [
        "# from tqdm.auto import tqdm\n",
        "\n",
        "# torch.manual_seed(42)\n",
        "# train_time_start_cpu = timer()\n",
        "# epochs = 2\n",
        "# for epoch in tqdm(range(epochs)):\n",
        "#     print(f\"Epoch : {epoch}\\n-------\")\n",
        "#     model_MNIST_0.train()\n",
        "#     train_loss = 0\n",
        "#     for batch, (X, y) in enumerate(train_dataloader):\n",
        "#         # X, y = X.to('cuda'), y.to('cuda')\n",
        "#         y_pred = model_MNIST_0(X)\n",
        "#         loss = loss_fn(y_pred, y)\n",
        "#         train_loss += loss\n",
        "#         optimizer_0.zero_grad()\n",
        "#         loss.backward()\n",
        "#         optimizer_0.step()\n",
        "#         if batch % 400 == 0:\n",
        "#             print(f\"looked at {batch * len(X)} / {len(train_dataloader.dataset)} samples\")\n",
        "#     train_loss /= len(train_dataloader)\n",
        "\n",
        "#     test_loss, test_acc = 0, 0\n",
        "#     model_MNIST_0.eval()\n",
        "#     with torch.inference_mode():\n",
        "#         for X_test, y_test in test_dataloader:\n",
        "#             # X_test, y_test = X_test.to('cuda'), y_test.to('cuda')\n",
        "#             test_pred = model_MNIST_0(X_test)\n",
        "#             test_loss = loss_fn(test_pred, y_test)\n",
        "#             test_loss += test_loss\n",
        "#             test_acc += accuracy_fn(y_true=y_test, y_pred=test_pred.argmax(dim=1))\n",
        "\n",
        "#         test_loss /= len(test_dataloader)\n",
        "#         test_acc /= len(test_dataloader)\n",
        "#     print(f\"train loss : {train_loss:.4f} | test loss : {test_loss:.4f} | test accuracy : {test_acc:.4f}\")\n",
        "#     # print(f\"train loss : {train_loss:.4f} | \")\n",
        "\n",
        "# train_time_end_cpu = timer()\n",
        "# print_train_time(train_time_start_cpu, train_time_end_cpu, device=str(next(model_MNIST_0.parameters()).device))"
      ],
      "metadata": {
        "id": "mKDV8myTU5Cr"
      },
      "execution_count": null,
      "outputs": []
    },
    {
      "cell_type": "code",
      "source": [
        "# from tqdm.auto import tqdm\n",
        "\n",
        "# torch.manual_seed(42)\n",
        "# train_time_start = timer()\n",
        "\n",
        "# epochs = 3\n",
        "# for epoch in tqdm(range(epochs)):\n",
        "#     print(f\"Epoch : {epoch}\\n-------\")\n",
        "#     model_1.train()\n",
        "#     train_loss = 0\n",
        "#     for batch, (X, y) in enumerate(train_dataloader):\n",
        "#         # X, y = X.to('cuda'), y.to('cuda')\n",
        "#         y_pred = model_1(X)\n",
        "#         loss = loss_fn(y_pred, y)\n",
        "#         train_loss += loss\n",
        "#         optimizer_1.zero_grad()\n",
        "#         loss.backward()\n",
        "#         optimizer_1.step()\n",
        "#         if batch % 400 == 0:\n",
        "#             print(f\"looked at {batch * len(X)} / {len(train_dataloader.dataset)} samples\")\n",
        "#     train_loss /= len(train_dataloader)\n",
        "\n",
        "#     test_loss, test_acc = 0, 0\n",
        "#     model_1.eval()\n",
        "#     with torch.inference_mode():\n",
        "#         for X_test, y_test in test_dataloader:\n",
        "#             # X_test, y_test = X_test.to('cuda'), y_test.to('cuda')\n",
        "#             test_pred = model_1(X_test)\n",
        "#             test_loss = loss_fn(test_pred, y_test)\n",
        "#             test_loss += test_loss\n",
        "#             test_acc += accuracy_fn(y_true=y_test, y_pred=test_pred.argmax(dim=1))\n",
        "\n",
        "#         test_loss /= len(test_dataloader)\n",
        "#         test_acc /= len(test_dataloader)\n",
        "#     print(f\"train loss : {train_loss:.4f} | test loss : {test_loss:.4f} | test accuracy : {test_acc:.4f}\")\n",
        "#     # print(f\"train loss : {train_loss:.4f} | \")\n",
        "\n",
        "# train_time_end = timer()\n",
        "# print_train_time(train_time_start, train_time_end, device=str(next(model_MNIST_0.parameters()).device))"
      ],
      "metadata": {
        "id": "Ly0mYjYc3-x4"
      },
      "execution_count": null,
      "outputs": []
    },
    {
      "cell_type": "code",
      "source": [
        "# torch.save(model_1.state_dict(), Path('/content/drive/MyDrive/my models/model_non_linear_mnist_1_1.pth'))"
      ],
      "metadata": {
        "id": "KVPT89mQVE8F"
      },
      "execution_count": null,
      "outputs": []
    },
    {
      "cell_type": "code",
      "source": [
        "loaded_model_1_1 = FashionMNISTModel_1(input_shape=784, hidden_units=10,\n",
        "                            output_shape=len(class_names))\n",
        "loaded_model_1_1.load_state_dict(torch.load(Path('/content/drive/MyDrive/my models/model_non_linear_mnist_1_1.pth')))\n",
        "X_test, y_test = next(iter(test_dataloader))\n",
        "loaded_model_1_1.eval()\n",
        "with torch.inference_mode():\n",
        "    y_pred = loaded_model_1_1(X_test[0])\n",
        "print(class_names[int(torch.argmax(y_pred))])\n",
        "fig = plt.imshow(X_test[0].squeeze());plt.title(f\"{class_names[int(y_test[0])]}\")\n",
        "fig.axes.get_xaxis().set_visible(False)\n",
        "fig.axes.get_yaxis().set_visible(False)\n"
      ],
      "metadata": {
        "colab": {
          "base_uri": "https://localhost:8080/"
        },
        "id": "LYb7obw7ViKC",
        "outputId": "7d49a50d-59b2-41f7-d49d-f14240f183fa"
      },
      "execution_count": null,
      "outputs": [
        {
          "output_type": "stream",
          "name": "stdout",
          "text": [
            "Ankle boot\n"
          ]
        },
        {
          "output_type": "display_data",
          "data": {
            "text/plain": [
              "<Figure size 640x480 with 1 Axes>"
            ],
            "image/png": "[encoded data removed]"
          },
          "metadata": {}
        }
      ]
    },
    {
      "cell_type": "code",
      "source": [
        "X_test, y_test = next(iter(test_dataloader))"
      ],
      "metadata": {
        "id": "2DZ5VrvbWxCV"
      },
      "execution_count": null,
      "outputs": []
    },
    {
      "cell_type": "code",
      "source": [
        "# model_1_time = train_time_end - train_time_start\n",
        "\n",
        "# model_1_time"
      ],
      "metadata": {
        "id": "e4cPuBPgu76K"
      },
      "execution_count": null,
      "outputs": []
    },
    {
      "cell_type": "code",
      "source": [
        "# from pathlib import Path\n",
        "# Path('my models').mkdir(parents=True, exist_ok=True)\n",
        "# torch.save(obj = model_1.state_dict(), f=Path('drive/MyDrive/my models')/'strange_model_1.pth')"
      ],
      "metadata": {
        "id": "a8xWvc9bK1tg"
      },
      "execution_count": null,
      "outputs": []
    },
    {
      "cell_type": "code",
      "source": [
        "# a function to evaluate\n",
        "torch.manual_seed(42)\n",
        "def eval_model(model: torch.nn.Module,\n",
        "               data_loader: torch.utils.data.DataLoader,\n",
        "               loss_fn :torch.nn.Module,\n",
        "               accuracy_fn):\n",
        "    loss, acc = 0, 0\n",
        "    model.eval()\n",
        "    with torch.inference_mode():\n",
        "        for X, y in tqdm(data_loader):\n",
        "            # X, y = X.to('cuda'), y.to('cuda')\n",
        "            test_pred = model(X)\n",
        "            loss += loss_fn(test_pred, y)\n",
        "            acc += accuracy_fn(y_true=y, y_pred=test_pred.argmax(dim=1))\n",
        "\n",
        "        loss /= len(data_loader)\n",
        "        acc /= len(data_loader)\n",
        "\n",
        "    return {'model_name': model.__class__.__name__,\n",
        "            'model_loss': loss.item(),\n",
        "            'model_acc': acc}\n",
        "\n",
        "\n",
        "\n",
        "\n",
        "\n",
        "\n"
      ],
      "metadata": {
        "id": "94rbAmV989W5"
      },
      "execution_count": null,
      "outputs": []
    },
    {
      "cell_type": "code",
      "source": [
        "# lets create a function for training/testing loop\n",
        "from tqdm.auto import tqdm\n",
        "def train_step(model: torch.nn.Module,\n",
        "                    data_loader: torch.utils.data.DataLoader,\n",
        "                    loss_fn: torch.nn.Module,\n",
        "                    optimizer: torch.optim.Optimizer,\n",
        "                    accuracy_fn,\n",
        "                    device:torch.device):\n",
        "    train_acc, train_loss = 0, 0\n",
        "    model.train()\n",
        "    for i, (X, y) in enumerate(data_loader):\n",
        "        # X, y = X.to('cuda'), y.to('cuda')\n",
        "\n",
        "        y_pred = model(X)\n",
        "        loss = loss_fn(y_pred, y)\n",
        "        train_acc += accuracy_fn(y_true=y, y_pred=y_pred.argmax(dim=1))\n",
        "        train_loss += loss\n",
        "        optimizer.zero_grad()\n",
        "        loss.backward()\n",
        "        optimizer.step()\n",
        "        if i % 400 == 0:\n",
        "            print(f\"looked at {i * len(X)} / {len(data_loader.dataset)} samples\")\n",
        "    train_acc /= len(data_loader)\n",
        "    train_loss /= len(data_loader)\n",
        "    print(f\"train_loss:{train_loss:.5f} | train acc : {train_acc:.2f} %\")\n",
        "\n",
        "# train_step(model_1,\n",
        "#            train_dataloader,\n",
        "#            loss_fn,\n",
        "#            optimizer_1,\n",
        "#            accuracy_fn,\n",
        "#            device='cpu' )# or 'cuda' if available"
      ],
      "metadata": {
        "id": "fm2knkAGS9kn"
      },
      "execution_count": null,
      "outputs": []
    },
    {
      "cell_type": "code",
      "source": [
        "# for batch, (X, y) in enumerate(train_dataloader):\n",
        "#     print(X.size(), y.size()) if batch < 10 else None\n",
        "# #\n"
      ],
      "metadata": {
        "id": "nGfA5To8Y-C1"
      },
      "execution_count": null,
      "outputs": []
    },
    {
      "cell_type": "code",
      "source": [
        "class FashionMNISTModel_3(nn.Module):\n",
        "    def __init__(self, input_shape: int, hidden_units: int, output_shape: int) -> None:\n",
        "        super().__init__()\n",
        "        self.conv_block_1 = nn.Sequential(\n",
        "            nn.Conv2d(in_channels=input_shape,\n",
        "                      out_channels=hidden_units,\n",
        "                      kernel_size=3,\n",
        "                      stride=1,\n",
        "                      padding=1),\n",
        "            nn.ReLU(),\n",
        "            nn.Conv2d(in_channels=hidden_units,\n",
        "                      out_channels=hidden_units,\n",
        "                      kernel_size=3,\n",
        "                      stride=1,\n",
        "                      padding=1),\n",
        "            nn.ReLU(),\n",
        "            nn.MaxPool2d(kernel_size=2))\n",
        "        self.conv_block_2 = nn.Sequential(\n",
        "            nn.Conv2d(in_channels=hidden_units,\n",
        "                      out_channels=hidden_units,\n",
        "                      kernel_size=3,\n",
        "                      stride=1,\n",
        "                      padding=1),\n",
        "            nn.ReLU(),\n",
        "            nn.Conv2d(in_channels=hidden_units,\n",
        "                      out_channels=hidden_units,\n",
        "                      kernel_size=3,\n",
        "                      stride=1,\n",
        "                      padding=1),\n",
        "            nn.ReLU(),\n",
        "            nn.MaxPool2d(kernel_size=2)\n",
        "        )\n",
        "        self.classifier = nn.Sequential(\n",
        "            nn.Flatten(),\n",
        "            # gives 10x49\n",
        "            nn.Linear(in_features = hidden_units * 49, out_features=len(class_names)),\n",
        "        )\n",
        "    def forward(self, x):\n",
        "        x = self.conv_block_1(x)\n",
        "        # print(x.shape)\n",
        "        x = self.conv_block_2(x)\n",
        "        # print(x.shape)\n",
        "        x = self.classifier(x)\n",
        "        return x\n",
        "\n",
        "\n"
      ],
      "metadata": {
        "id": "_SFbX5l-nVcp"
      },
      "execution_count": null,
      "outputs": []
    },
    {
      "cell_type": "code",
      "source": [
        "class FashionMNISTModel_4(nn.Module):\n",
        "    def __init__(self, input_shape: int, hidden_units: int, output_shape: int) -> None:\n",
        "        super().__init__()\n",
        "        self.conv_block_1 = nn.Sequential(\n",
        "            nn.Conv2d(in_channels=input_shape,\n",
        "                      out_channels=hidden_units,\n",
        "                      kernel_size=3,\n",
        "                      stride=1,\n",
        "                      padding=1),\n",
        "            nn.ReLU(),\n",
        "            nn.Conv2d(in_channels=hidden_units,\n",
        "                      out_channels=hidden_units,\n",
        "                      kernel_size=3,\n",
        "                      stride=1,\n",
        "                      padding=1),\n",
        "            nn.ReLU(),\n",
        "            nn.MaxPool2d(kernel_size=2))\n",
        "        self.conv_block_2 = nn.Sequential(\n",
        "            nn.Conv2d(in_channels=hidden_units,\n",
        "                      out_channels=hidden_units,\n",
        "                      kernel_size=3,\n",
        "                      stride=1,\n",
        "                      padding=1),\n",
        "            nn.ReLU(),\n",
        "            nn.Conv2d(in_channels=hidden_units,\n",
        "                      out_channels=hidden_units,\n",
        "                      kernel_size=3,\n",
        "                      stride=1,\n",
        "                      padding=1),\n",
        "            nn.ReLU(),\n",
        "            nn.MaxPool2d(kernel_size=2)\n",
        "        )\n",
        "        self.classifier = nn.Sequential(\n",
        "\n",
        "            # torch.permute(nn.Flatten(), (1, 0)),\n",
        "            nn.Flatten(0, -1),\n",
        "            # gives 10x49\n",
        "            nn.Linear(in_features = hidden_units * 49, out_features=len(class_names)),\n",
        "            nn.Flatten(0, -1)\n",
        "        )\n",
        "    def forward(self, x):\n",
        "        x = self.conv_block_1(x)\n",
        "        print(x.shape)\n",
        "        x = self.conv_block_2(x)\n",
        "        print(x.shape)\n",
        "        x = self.classifier(x)\n",
        "        return x\n",
        "\n"
      ],
      "metadata": {
        "id": "kyepoi9RpaGB"
      },
      "execution_count": null,
      "outputs": []
    },
    {
      "cell_type": "code",
      "source": [
        "torch.manual_seed(42)\n",
        "model_cnn_0 = FashionMNISTModel_4(input_shape = 1,\n",
        "                                  hidden_units = 10,\n",
        "                                  output_shape = len(class_names))\n",
        "\n",
        "model_cnn_0(image)\n",
        "\n",
        "# model_cnn_0(image.unsqueeze(0)).shape"
      ],
      "metadata": {
        "colab": {
          "base_uri": "https://localhost:8080/"
        },
        "id": "VBMO0ipo3fZW",
        "outputId": "9b8de302-2eb2-4eee-d225-231f0334500a"
      },
      "execution_count": null,
      "outputs": [
        {
          "output_type": "stream",
          "name": "stdout",
          "text": [
            "torch.Size([10, 14, 14])\n",
            "torch.Size([10, 7, 7])\n"
          ]
        },
        {
          "output_type": "execute_result",
          "data": {
            "text/plain": [
              "tensor([ 0.0402, -0.0687,  0.0542, -0.0376, -0.0009,  0.0209, -0.0018, -0.0198,\n",
              "         0.0321,  0.0022], grad_fn=<ViewBackward0>)"
            ]
          },
          "metadata": {},
          "execution_count": 34
        }
      ]
    },
    {
      "cell_type": "code",
      "source": [
        "images = torch.randn(size=(32, 3, 64, 64))\n",
        "image_0 = images[0]\n",
        "# image_0 = image_0.unsqueeze(dim = 0)\n",
        "images.shape, image_0.shape\n",
        "print(f\"Image batch shape: {images.shape}\")\n",
        "print(f\"First image shape: {image_0.shape}\")\n"
      ],
      "metadata": {
        "colab": {
          "base_uri": "https://localhost:8080/"
        },
        "id": "ddH_cWjY3luS",
        "outputId": "375505d7-0a25-459a-bebb-9d22d6193253"
      },
      "execution_count": null,
      "outputs": [
        {
          "output_type": "stream",
          "name": "stdout",
          "text": [
            "Image batch shape: torch.Size([32, 3, 64, 64])\n",
            "First image shape: torch.Size([3, 64, 64])\n"
          ]
        }
      ]
    },
    {
      "cell_type": "code",
      "source": [
        "\n",
        "conv_layer = nn.Conv2d(in_channels = 3, out_channels = 10, kernel_size = 3, stride=1, padding=1)\n",
        "\n",
        "conv_output = conv_layer(image_0)\n",
        "\n",
        "image_0.shape, conv_output.shape"
      ],
      "metadata": {
        "colab": {
          "base_uri": "https://localhost:8080/"
        },
        "id": "ftejemolBJq8",
        "outputId": "67afa0ac-aec1-4d40-85cf-ffd405d51a4a"
      },
      "execution_count": null,
      "outputs": [
        {
          "output_type": "execute_result",
          "data": {
            "text/plain": [
              "(torch.Size([3, 64, 64]), torch.Size([10, 64, 64]))"
            ]
          },
          "metadata": {},
          "execution_count": 36
        }
      ]
    },
    {
      "cell_type": "code",
      "source": [
        "# lets see what maxpool2d does!\n",
        "max_pool_layer = nn.MaxPool2d(kernel_size = 2, stride=None,\n",
        "                              padding=0)\n",
        "maxPool_output = max_pool_layer(conv_output)\n",
        "maxPool_output.shape"
      ],
      "metadata": {
        "colab": {
          "base_uri": "https://localhost:8080/"
        },
        "id": "yLklL3jcFtXf",
        "outputId": "d334bd0b-2900-4349-9665-f2d11887ac22"
      },
      "execution_count": null,
      "outputs": [
        {
          "output_type": "execute_result",
          "data": {
            "text/plain": [
              "torch.Size([10, 32, 32])"
            ]
          },
          "metadata": {},
          "execution_count": 37
        }
      ]
    },
    {
      "cell_type": "code",
      "source": [
        "images, label = next(iter(train_dataloader))\n",
        "images[0].size(), label[0]\n",
        "class_names[label[9]]\n",
        "# image_permuted = torch.permute(image, (1, 2, 0))\n",
        "# plt.imshow(image_permuted, cmap='gray')\n",
        "plt.imshow(torch.permute(images[0], (1, 2, 0)), cmap='gray')\n",
        "plt.axis(False)\n",
        "plt.title(class_names[label[0]])\n",
        "plt.show()\n",
        "# plt.title(class_names[label])\n",
        "\n",
        "# image_0_permuted = torch.permute(image_0, (1, 2, 0))\n",
        "# label\n",
        "# plt.imshow(image_0_permuted)\n",
        "# image_0_permuted.shape, image_permuted.shape\n",
        "# image_0_permuted[1, 20, 0]\n",
        "# couldn't use imshow for RGB images"
      ],
      "metadata": {
        "colab": {
          "base_uri": "https://localhost:8080/"
        },
        "id": "MrGvQcs5ONgO",
        "outputId": "479fbed6-908d-437d-dbb2-5f60e634cdd3"
      },
      "execution_count": null,
      "outputs": [
        {
          "output_type": "display_data",
          "data": {
            "text/plain": [
              "<Figure size 640x480 with 1 Axes>"
            ],
            "image/png": "[encoded data removed]"
          },
          "metadata": {}
        }
      ]
    },
    {
      "cell_type": "code",
      "source": [
        "torch.manual_seed(42)\n",
        "model_cnn_1 = FashionMNISTModel_3(input_shape = 1,\n",
        "                                  hidden_units = 10,\n",
        "                                  output_shape = len(class_names))\n",
        "\n",
        "\n",
        "\n",
        "# unsqueezed_image = image.unsqueeze(0)\n",
        "# unsqueezed_image.size()\n",
        "# model_cnn_1(image_0_permuted_unsqueezed)\n",
        "# expected input[1, 28, 28, 1]\n",
        "# image_0_permuted_unsqueezed = image_0_permuted.unsqueeze(0)\n",
        "# image_permuted_unsqueezed = image_permuted.unsqueeze(0)\n",
        "# image_permuted_unsqueezed.shape\n",
        "# image_0_permuted_unsqueezed.shape\n",
        "with torch.inference_mode():\n",
        "    result = model_cnn_1(image.unsqueeze(0))\n",
        "\n",
        "result, result.shape\n"
      ],
      "metadata": {
        "colab": {
          "base_uri": "https://localhost:8080/"
        },
        "id": "AZ-f5yU-Snzf",
        "outputId": "6a228874-d8ad-44f9-83ed-6701acc2bd28"
      },
      "execution_count": null,
      "outputs": [
        {
          "output_type": "execute_result",
          "data": {
            "text/plain": [
              "(tensor([[ 0.0402, -0.0687,  0.0542, -0.0376, -0.0009,  0.0209, -0.0018, -0.0198,\n",
              "           0.0321,  0.0022]]),\n",
              " torch.Size([1, 10]))"
            ]
          },
          "metadata": {},
          "execution_count": 39
        }
      ]
    },
    {
      "cell_type": "code",
      "source": [
        "# setup loss_fn/optimizer/accuracy_fn\n",
        "loss_fn = nn.CrossEntropyLoss()\n",
        "optimizer_cnn_1 = torch.optim.SGD(model_cnn_1.parameters(), lr = 0.1)\n",
        "from helper_functions import accuracy_fn\n"
      ],
      "metadata": {
        "id": "-1PCuBbocvAV"
      },
      "execution_count": null,
      "outputs": []
    },
    {
      "cell_type": "code",
      "source": [
        "# torch.manual_seed(42)\n",
        "# from tqdm.auto import tqdm\n",
        "# from timeit import default_timer as timer\n",
        "# time_start = timer()\n",
        "# for epoch in tqdm(range(1)):\n",
        "#     train_step(model_cnn_1,\n",
        "#             train_dataloader,\n",
        "#             loss_fn,\n",
        "#             optimizer_cnn_1,\n",
        "#             accuracy_fn,\n",
        "#             device='cpu' )# or 'cuda' if available\n",
        "# time_end = timer()\n"
      ],
      "metadata": {
        "id": "R0IHRLXEdovO"
      },
      "execution_count": null,
      "outputs": []
    },
    {
      "cell_type": "code",
      "source": [],
      "metadata": {
        "id": "_eqzNr8kZQyu"
      },
      "execution_count": null,
      "outputs": []
    },
    {
      "cell_type": "code",
      "source": [
        "# time_model_cnn_1 = time_end-time_start\n",
        "# print(time_model_cnn_1)"
      ],
      "metadata": {
        "id": "hzxFu0fFufOk"
      },
      "execution_count": null,
      "outputs": []
    },
    {
      "cell_type": "code",
      "source": [
        "from pathlib import Path\n",
        "# MODEL_PATH = Path('models')\n",
        "# MODEL_PATH.mkdir(parents=True, exist_ok=True)\n",
        "Path('models').mkdir(parents=True, exist_ok=True)\n",
        "# MODEL_NAME = 'conv_model_1.pth'\n",
        "# MODEL_SAVE_PATH = MODEL_PATH / MODEL_NAME\n",
        "torch.save(obj = model_cnn_1.state_dict(), f=Path('models')/'conv_model_1.pth')"
      ],
      "metadata": {
        "id": "i-UTqZMe_1W9"
      },
      "execution_count": null,
      "outputs": []
    },
    {
      "cell_type": "code",
      "source": [
        "# model_cnn_1(images[0].unsqueeze(0).argmax(dim=1)) , class_names\n",
        "print(int(torch.argmax(model_cnn_1(images[3].unsqueeze(0)))))\n",
        "class_names[int(torch.argmax(model_cnn_1(images[3].unsqueeze(0))))]"
      ],
      "metadata": {
        "colab": {
          "base_uri": "https://localhost:8080/",
          "height": 53
        },
        "id": "rknO4KCJwQcv",
        "outputId": "ba7e0053-3224-42d8-a782-2104524a46f2"
      },
      "execution_count": null,
      "outputs": [
        {
          "output_type": "stream",
          "name": "stdout",
          "text": [
            "2\n"
          ]
        },
        {
          "output_type": "execute_result",
          "data": {
            "text/plain": [
              "'Pullover'"
            ],
            "application/vnd.google.colaboratory.intrinsic+json": {
              "type": "string"
            }
          },
          "metadata": {},
          "execution_count": 44
        }
      ]
    },
    {
      "cell_type": "code",
      "source": [
        "# from pathlib import Path\n",
        "# # MODEL_PATH = Path('models')\n",
        "# # MODEL_PATH.mkdir(parents=True, exist_ok=True)\n",
        "# Path('models').mkdir(parents=True, exist_ok=True)\n",
        "# # MODEL_NAME = 'conv_model_1.pth'\n",
        "# # MODEL_SAVE_PATH = MODEL_PATH / MODEL_NAME\n",
        "# torch.save(obj = model_cnn_1.state_dict(), f=Path('models')/'loaded_model_3.pth')"
      ],
      "metadata": {
        "id": "6I2I_nr2C3DD"
      },
      "execution_count": null,
      "outputs": []
    },
    {
      "cell_type": "code",
      "source": [
        "loaded_model_1 = FashionMNISTModel_3(input_shape = 1,\n",
        "                                    hidden_units = 10,\n",
        "                                    output_shape = len(class_names))\n",
        "loaded_model_1.load_state_dict(torch.load(Path('models')/'conv_model_1.pth'))\n",
        "loaded_model_1.eval()\n",
        "with torch.inference_mode():\n",
        "    print(int(torch.argmax(loaded_model_1(images[20].unsqueeze(0)))))\n",
        "    print(class_names[int(torch.argmax(model_cnn_1(images[20].unsqueeze(0))))])\n",
        "class_names"
      ],
      "metadata": {
        "colab": {
          "base_uri": "https://localhost:8080/"
        },
        "id": "-3jYhKDoBlsW",
        "outputId": "0373b6b3-97df-43ee-e666-1d1ce2ac0ea7"
      },
      "execution_count": null,
      "outputs": [
        {
          "output_type": "stream",
          "name": "stdout",
          "text": [
            "2\n",
            "Pullover\n"
          ]
        },
        {
          "output_type": "execute_result",
          "data": {
            "text/plain": [
              "['T-shirt/top',\n",
              " 'Trouser',\n",
              " 'Pullover',\n",
              " 'Dress',\n",
              " 'Coat',\n",
              " 'Sandal',\n",
              " 'Shirt',\n",
              " 'Sneaker',\n",
              " 'Bag',\n",
              " 'Ankle boot']"
            ]
          },
          "metadata": {},
          "execution_count": 46
        }
      ]
    },
    {
      "cell_type": "code",
      "source": [
        "images, label = next(iter(train_dataloader))\n",
        "images[0].size(), label[0]\n",
        "class_names[label[9]]\n",
        "# image_permuted = torch.permute(image, (1, 2, 0))\n",
        "# plt.imshow(image_permuted, cmap='gray')\n",
        "plt.imshow(torch.permute(images[20], (1, 2, 0)), cmap='gray')\n",
        "plt.axis(False)\n",
        "plt.title(class_names[label[20]])\n",
        "plt.show()"
      ],
      "metadata": {
        "colab": {
          "base_uri": "https://localhost:8080/"
        },
        "id": "DhBLMkSMGesA",
        "outputId": "7b1c4edb-b57a-4a50-a2e1-6947ad4ab5c2"
      },
      "execution_count": null,
      "outputs": [
        {
          "output_type": "display_data",
          "data": {
            "text/plain": [
              "<Figure size 640x480 with 1 Axes>"
            ],
            "image/png": "[encoded data removed]"
          },
          "metadata": {}
        }
      ]
    },
    {
      "cell_type": "code",
      "source": [
        "model_cnn_1.load_state_dict(torch.load(Path('/content/drive/MyDrive/my models/conv_model_1.pth')))\n"
      ],
      "metadata": {
        "colab": {
          "base_uri": "https://localhost:8080/"
        },
        "id": "rNgk4KWmbsO2",
        "outputId": "6e6810b9-ddcf-461f-b466-d5ed57a49710"
      },
      "execution_count": null,
      "outputs": [
        {
          "output_type": "execute_result",
          "data": {
            "text/plain": [
              "<All keys matched successfully>"
            ]
          },
          "metadata": {},
          "execution_count": 48
        }
      ]
    },
    {
      "cell_type": "code",
      "source": [
        "model_2_results = eval_model(model_cnn_1,\n",
        "                                 test_dataloader,\n",
        "                                 loss_fn,\n",
        "                                 accuracy_fn)\n",
        "model_1_results = eval_model(loaded_model_1_1, test_dataloader, loss_fn, accuracy_fn)\n",
        "\n",
        "with torch.inference_mode():\n",
        "    print(model_2_results)\n",
        "    print(model_1_results)\n",
        "\n",
        "\n"
      ],
      "metadata": {
        "colab": {
          "base_uri": "https://localhost:8080/",
          "height": 117,
          "referenced_widgets": [
            "9c3abd74a707472f8fdd12da7bb77f33",
            "1152d8aaefe6412a8540e4004ba1f90e",
            "72038f6943ba46758a67fd1961d117be",
            "b65cd02190a5496783db8c1df834d90f",
            "e4e3aa64502a422faf73c703fb4ee26e",
            "ac9c3898f0864ee580a667a5ed7a1d8a",
            "ed777d3b1147459596250911b1688780",
            "5b4b9fe20ac8465e9f199737cac87316",
            "15ce129528dc42b7814e9f593926836e",
            "d023afd1a05d47f8af9057988ea06e40",
            "b3044f142b614b7f9d0f6500db9b5a58",
            "afb1db7298f345368dcdac03b44eb1f8",
            "2828446766824b6aad633f0d533dc642",
            "801ea37cb04845639583ff034c725363",
            "66fc0b729c394fa5b9e68c4657a7c0ab",
            "2566a70efb264ec1941810f5a33631d8",
            "5b7963e471ae4dd49afcc3d30c48e929",
            "aeb23a9b8353443fad5ee1a7f16af877",
            "5085f889a76043118ed7f4c06b72e605",
            "655a75ac3d514e3fa5a0295d2b33c9c8",
            "6edcb654a1c548f6bb96a6c910d7d057",
            "ae032f7941a04f81b80f7f003b4d34b2"
          ]
        },
        "id": "hXP0praHHToM",
        "outputId": "81fcde1d-06aa-48ef-fe18-09eeb51a72b8"
      },
      "execution_count": null,
      "outputs": [
        {
          "output_type": "display_data",
          "data": {
            "text/plain": [
              "  0%|          | 0/313 [00:00<?, ?it/s]"
            ],
            "application/vnd.jupyter.widget-view+json": {
              "version_major": 2,
              "version_minor": 0,
              "model_id": "9c3abd74a707472f8fdd12da7bb77f33"
            }
          },
          "metadata": {}
        },
        {
          "output_type": "display_data",
          "data": {
            "text/plain": [
              "  0%|          | 0/313 [00:00<?, ?it/s]"
            ],
            "application/vnd.jupyter.widget-view+json": {
              "version_major": 2,
              "version_minor": 0,
              "model_id": "afb1db7298f345368dcdac03b44eb1f8"
            }
          },
          "metadata": {}
        },
        {
          "output_type": "stream",
          "name": "stdout",
          "text": [
            "{'model_name': 'FashionMNISTModel_3', 'model_loss': 0.4098292291164398, 'model_acc': 85.09384984025559}\n",
            "{'model_name': 'FashionMNISTModel_1', 'model_loss': 0.6991605162620544, 'model_acc': 80.27156549520767}\n"
          ]
        }
      ]
    },
    {
      "cell_type": "code",
      "source": [
        "import pandas as pd\n",
        "compare_results = pd.DataFrame([model_2_results, model_1_results])\n",
        "\n",
        "# compare_results['time'] = [time_model_cnn_1, model_1_time]\n",
        "compare_results"
      ],
      "metadata": {
        "colab": {
          "base_uri": "https://localhost:8080/"
        },
        "id": "_NjC3aA1tJYr",
        "outputId": "29e8aaee-cda6-4e9b-93a3-ecfe506567e5"
      },
      "execution_count": null,
      "outputs": [
        {
          "output_type": "execute_result",
          "data": {
            "text/plain": [
              "            model_name  model_loss  model_acc\n",
              "0  FashionMNISTModel_3    0.409829  85.093850\n",
              "1  FashionMNISTModel_1    0.699161  80.271565"
            ],
            "text/html": [
              "\n",
              "  <div id=\"df-28247858-a42e-4a7e-802a-cfb8b3a5cdc2\" class=\"colab-df-container\">\n",
              "    <div>\n",
              "<style scoped>\n",
              "    .dataframe tbody tr th:only-of-type {\n",
              "        vertical-align: middle;\n",
              "    }\n",
              "\n",
              "    .dataframe tbody tr th {\n",
              "        vertical-align: top;\n",
              "    }\n",
              "\n",
              "    .dataframe thead th {\n",
              "        text-align: right;\n",
              "    }\n",
              "</style>\n",
              "<table border=\"1\" class=\"dataframe\">\n",
              "  <thead>\n",
              "    <tr style=\"text-align: right;\">\n",
              "      <th></th>\n",
              "      <th>model_name</th>\n",
              "      <th>model_loss</th>\n",
              "      <th>model_acc</th>\n",
              "    </tr>\n",
              "  </thead>\n",
              "  <tbody>\n",
              "    <tr>\n",
              "      <th>0</th>\n",
              "      <td>FashionMNISTModel_3</td>\n",
              "      <td>0.409829</td>\n",
              "      <td>85.093850</td>\n",
              "    </tr>\n",
              "    <tr>\n",
              "      <th>1</th>\n",
              "      <td>FashionMNISTModel_1</td>\n",
              "      <td>0.699161</td>\n",
              "      <td>80.271565</td>\n",
              "    </tr>\n",
              "  </tbody>\n",
              "</table>\n",
              "</div>\n",
              "    <div class=\"colab-df-buttons\">\n",
              "\n",
              "  <div class=\"colab-df-container\">\n",
              "    <button class=\"colab-df-convert\" onclick=\"convertToInteractive('df-28247858-a42e-4a7e-802a-cfb8b3a5cdc2')\"\n",
              "            title=\"Convert this dataframe to an interactive table.\"\n",
              "            style=\"display:none;\">\n",
              "\n",
              "  <svg xmlns=\"http://www.w3.org/2000/svg\" height=\"24px\" viewBox=\"0 -960 960 960\">\n",
              "    <path d=\"M120-120v-720h720v720H120Zm60-500h600v-160H180v160Zm220 220h160v-160H400v160Zm0 220h160v-160H400v160ZM180-400h160v-160H180v160Zm440 0h160v-160H620v160ZM180-180h160v-160H180v160Zm440 0h160v-160H620v160Z\"/>\n",
              "  </svg>\n",
              "    </button>\n",
              "\n",
              "  <style>\n",
              "    .colab-df-container {\n",
              "      display:flex;\n",
              "      gap: 12px;\n",
              "    }\n",
              "\n",
              "    .colab-df-convert {\n",
              "      background-color: #E8F0FE;\n",
              "      border: none;\n",
              "      border-radius: 50%;\n",
              "      cursor: pointer;\n",
              "      display: none;\n",
              "      fill: #1967D2;\n",
              "      height: 32px;\n",
              "      padding: 0 0 0 0;\n",
              "      width: 32px;\n",
              "    }\n",
              "\n",
              "    .colab-df-convert:hover {\n",
              "      background-color: #E2EBFA;\n",
              "      box-shadow: 0px 1px 2px rgba(60, 64, 67, 0.3), 0px 1px 3px 1px rgba(60, 64, 67, 0.15);\n",
              "      fill: #174EA6;\n",
              "    }\n",
              "\n",
              "    .colab-df-buttons div {\n",
              "      margin-bottom: 4px;\n",
              "    }\n",
              "\n",
              "    [theme=dark] .colab-df-convert {\n",
              "      background-color: #3B4455;\n",
              "      fill: #D2E3FC;\n",
              "    }\n",
              "\n",
              "    [theme=dark] .colab-df-convert:hover {\n",
              "      background-color: #434B5C;\n",
              "      box-shadow: 0px 1px 3px 1px rgba(0, 0, 0, 0.15);\n",
              "      filter: drop-shadow(0px 1px 2px rgba(0, 0, 0, 0.3));\n",
              "      fill: #FFFFFF;\n",
              "    }\n",
              "  </style>\n",
              "\n",
              "    <script>\n",
              "      const buttonEl =\n",
              "        document.querySelector('#df-28247858-a42e-4a7e-802a-cfb8b3a5cdc2 button.colab-df-convert');\n",
              "      buttonEl.style.display =\n",
              "        google.colab.kernel.accessAllowed ? 'block' : 'none';\n",
              "\n",
              "      async function convertToInteractive(key) {\n",
              "        const element = document.querySelector('#df-28247858-a42e-4a7e-802a-cfb8b3a5cdc2');\n",
              "        const dataTable =\n",
              "          await google.colab.kernel.invokeFunction('convertToInteractive',\n",
              "                                                    [key], {});\n",
              "        if (!dataTable) return;\n",
              "\n",
              "        const docLinkHtml = 'Like what you see? Visit the ' +\n",
              "          '<a target=\"_blank\" href=https://colab.research.google.com/notebooks/data_table.ipynb>data table notebook</a>'\n",
              "          + ' to learn more about interactive tables.';\n",
              "        element.innerHTML = '';\n",
              "        dataTable['output_type'] = 'display_data';\n",
              "        await google.colab.output.renderOutput(dataTable, element);\n",
              "        const docLink = document.createElement('div');\n",
              "        docLink.innerHTML = docLinkHtml;\n",
              "        element.appendChild(docLink);\n",
              "      }\n",
              "    </script>\n",
              "  </div>\n",
              "\n",
              "\n",
              "<div id=\"df-272aebe5-6508-4895-b5b2-ddb9afdcdd13\">\n",
              "  <button class=\"colab-df-quickchart\" onclick=\"quickchart('df-272aebe5-6508-4895-b5b2-ddb9afdcdd13')\"\n",
              "            title=\"Suggest charts\"\n",
              "            style=\"display:none;\">\n",
              "\n",
              "<svg xmlns=\"http://www.w3.org/2000/svg\" height=\"24px\"viewBox=\"0 0 24 24\"\n",
              "     width=\"24px\">\n",
              "    <g>\n",
              "        <path d=\"M19 3H5c-1.1 0-2 .9-2 2v14c0 1.1.9 2 2 2h14c1.1 0 2-.9 2-2V5c0-1.1-.9-2-2-2zM9 17H7v-7h2v7zm4 0h-2V7h2v10zm4 0h-2v-4h2v4z\"/>\n",
              "    </g>\n",
              "</svg>\n",
              "  </button>\n",
              "\n",
              "<style>\n",
              "  .colab-df-quickchart {\n",
              "      --bg-color: #E8F0FE;\n",
              "      --fill-color: #1967D2;\n",
              "      --hover-bg-color: #E2EBFA;\n",
              "      --hover-fill-color: #174EA6;\n",
              "      --disabled-fill-color: #AAA;\n",
              "      --disabled-bg-color: #DDD;\n",
              "  }\n",
              "\n",
              "  [theme=dark] .colab-df-quickchart {\n",
              "      --bg-color: #3B4455;\n",
              "      --fill-color: #D2E3FC;\n",
              "      --hover-bg-color: #434B5C;\n",
              "      --hover-fill-color: #FFFFFF;\n",
              "      --disabled-bg-color: #3B4455;\n",
              "      --disabled-fill-color: #666;\n",
              "  }\n",
              "\n",
              "  .colab-df-quickchart {\n",
              "    background-color: var(--bg-color);\n",
              "    border: none;\n",
              "    border-radius: 50%;\n",
              "    cursor: pointer;\n",
              "    display: none;\n",
              "    fill: var(--fill-color);\n",
              "    height: 32px;\n",
              "    padding: 0;\n",
              "    width: 32px;\n",
              "  }\n",
              "\n",
              "  .colab-df-quickchart:hover {\n",
              "    background-color: var(--hover-bg-color);\n",
              "    box-shadow: 0 1px 2px rgba(60, 64, 67, 0.3), 0 1px 3px 1px rgba(60, 64, 67, 0.15);\n",
              "    fill: var(--button-hover-fill-color);\n",
              "  }\n",
              "\n",
              "  .colab-df-quickchart-complete:disabled,\n",
              "  .colab-df-quickchart-complete:disabled:hover {\n",
              "    background-color: var(--disabled-bg-color);\n",
              "    fill: var(--disabled-fill-color);\n",
              "    box-shadow: none;\n",
              "  }\n",
              "\n",
              "  .colab-df-spinner {\n",
              "    border: 2px solid var(--fill-color);\n",
              "    border-color: transparent;\n",
              "    border-bottom-color: var(--fill-color);\n",
              "    animation:\n",
              "      spin 1s steps(1) infinite;\n",
              "  }\n",
              "\n",
              "  @keyframes spin {\n",
              "    0% {\n",
              "      border-color: transparent;\n",
              "      border-bottom-color: var(--fill-color);\n",
              "      border-left-color: var(--fill-color);\n",
              "    }\n",
              "    20% {\n",
              "      border-color: transparent;\n",
              "      border-left-color: var(--fill-color);\n",
              "      border-top-color: var(--fill-color);\n",
              "    }\n",
              "    30% {\n",
              "      border-color: transparent;\n",
              "      border-left-color: var(--fill-color);\n",
              "      border-top-color: var(--fill-color);\n",
              "      border-right-color: var(--fill-color);\n",
              "    }\n",
              "    40% {\n",
              "      border-color: transparent;\n",
              "      border-right-color: var(--fill-color);\n",
              "      border-top-color: var(--fill-color);\n",
              "    }\n",
              "    60% {\n",
              "      border-color: transparent;\n",
              "      border-right-color: var(--fill-color);\n",
              "    }\n",
              "    80% {\n",
              "      border-color: transparent;\n",
              "      border-right-color: var(--fill-color);\n",
              "      border-bottom-color: var(--fill-color);\n",
              "    }\n",
              "    90% {\n",
              "      border-color: transparent;\n",
              "      border-bottom-color: var(--fill-color);\n",
              "    }\n",
              "  }\n",
              "</style>\n",
              "\n",
              "  <script>\n",
              "    async function quickchart(key) {\n",
              "      const quickchartButtonEl =\n",
              "        document.querySelector('#' + key + ' button');\n",
              "      quickchartButtonEl.disabled = true;  // To prevent multiple clicks.\n",
              "      quickchartButtonEl.classList.add('colab-df-spinner');\n",
              "      try {\n",
              "        const charts = await google.colab.kernel.invokeFunction(\n",
              "            'suggestCharts', [key], {});\n",
              "      } catch (error) {\n",
              "        console.error('Error during call to suggestCharts:', error);\n",
              "      }\n",
              "      quickchartButtonEl.classList.remove('colab-df-spinner');\n",
              "      quickchartButtonEl.classList.add('colab-df-quickchart-complete');\n",
              "    }\n",
              "    (() => {\n",
              "      let quickchartButtonEl =\n",
              "        document.querySelector('#df-272aebe5-6508-4895-b5b2-ddb9afdcdd13 button');\n",
              "      quickchartButtonEl.style.display =\n",
              "        google.colab.kernel.accessAllowed ? 'block' : 'none';\n",
              "    })();\n",
              "  </script>\n",
              "</div>\n",
              "    </div>\n",
              "  </div>\n"
            ],
            "application/vnd.google.colaboratory.intrinsic+json": {
              "type": "dataframe",
              "variable_name": "compare_results",
              "summary": "{\n  \"name\": \"compare_results\",\n  \"rows\": 2,\n  \"fields\": [\n    {\n      \"column\": \"model_name\",\n      \"properties\": {\n        \"dtype\": \"string\",\n        \"num_unique_values\": 2,\n        \"samples\": [\n          \"FashionMNISTModel_1\",\n          \"FashionMNISTModel_3\"\n        ],\n        \"semantic_type\": \"\",\n        \"description\": \"\"\n      }\n    },\n    {\n      \"column\": \"model_loss\",\n      \"properties\": {\n        \"dtype\": \"number\",\n        \"std\": 0.20458811515009628,\n        \"min\": 0.4098292291164398,\n        \"max\": 0.6991605162620544,\n        \"num_unique_values\": 2,\n        \"samples\": [\n          0.6991605162620544,\n          0.4098292291164398\n        ],\n        \"semantic_type\": \"\",\n        \"description\": \"\"\n      }\n    },\n    {\n      \"column\": \"model_acc\",\n      \"properties\": {\n        \"dtype\": \"number\",\n        \"std\": 3.4098699611931127,\n        \"min\": 80.27156549520767,\n        \"max\": 85.09384984025559,\n        \"num_unique_values\": 2,\n        \"samples\": [\n          80.27156549520767,\n          85.09384984025559\n        ],\n        \"semantic_type\": \"\",\n        \"description\": \"\"\n      }\n    }\n  ]\n}"
            }
          },
          "metadata": {},
          "execution_count": 50
        }
      ]
    },
    {
      "cell_type": "code",
      "source": [
        "import matplotlib.pyplot as plt\n",
        "\n",
        "\n",
        "compare_results.plot(x=\"model_name\", y=\"model_loss\", kind=\"barh\")\n",
        "compare_results.plot(x=\"model_name\", y=\"model_acc\", kind=\"barh\")"
      ],
      "metadata": {
        "colab": {
          "base_uri": "https://localhost:8080/",
          "height": 861
        },
        "id": "4XRoILG7wCN7",
        "outputId": "a4918576-7146-4e83-bb3c-5ae4a6841617"
      },
      "execution_count": null,
      "outputs": [
        {
          "output_type": "execute_result",
          "data": {
            "text/plain": [
              "<Axes: ylabel='model_name'>"
            ]
          },
          "metadata": {},
          "execution_count": 51
        },
        {
          "output_type": "display_data",
          "data": {
            "text/plain": [
              "<Figure size 640x480 with 1 Axes>"
            ],
            "image/png": "[encoded data removed]"
          },
          "metadata": {}
        },
        {
          "output_type": "display_data",
          "data": {
            "text/plain": [
              "<Figure size 640x480 with 1 Axes>"
            ],
            "image/png": "[encoded data removed]"
          },
          "metadata": {}
        }
      ]
    },
    {
      "cell_type": "code",
      "source": [
        "def make_predictions(model: torch.nn.Module,\n",
        "                     data: list,\n",
        "                     device):\n",
        "    pred_probs = []\n",
        "    # model.to(device)\n",
        "    model.eval()\n",
        "    with torch.inference_mode():\n",
        "        for sample in data:\n",
        "            sample = torch.unsqueeze(sample, dim = 0)\n",
        "            pred_logit = model(sample)\n",
        "            # print(pred_logit)\n",
        "            pred_prob = torch.softmax(pred_logit, dim=1)\n",
        "            pred_probs.append(pred_prob)\n",
        "\n",
        "    return torch.stack(pred_probs)\n"
      ],
      "metadata": {
        "id": "PxFq-pKNxkEW"
      },
      "execution_count": null,
      "outputs": []
    },
    {
      "cell_type": "code",
      "source": [
        "import random\n",
        "# random.seed(42)\n",
        "test_samples = []\n",
        "test_labels = []\n",
        "for sample, label in random.sample(list(test_data), k=9):\n",
        "    test_samples.append(sample)\n",
        "    test_labels.append(label)\n",
        "\n",
        "\n",
        "len(test_samples)\n",
        "\n",
        "\n"
      ],
      "metadata": {
        "colab": {
          "base_uri": "https://localhost:8080/"
        },
        "id": "0eI7Aj971YkN",
        "outputId": "bea2d5f8-1cd2-4e70-ef3e-d98365d2efba"
      },
      "execution_count": null,
      "outputs": [
        {
          "output_type": "execute_result",
          "data": {
            "text/plain": [
              "9"
            ]
          },
          "metadata": {},
          "execution_count": 53
        }
      ]
    },
    {
      "cell_type": "code",
      "source": [
        "predictions = make_predictions(model_cnn_1,\n",
        "                     test_samples,\n",
        "                     'cpu')\n",
        "predictions[:2]\n",
        "int(torch.argmax(predictions[0])), int(torch.argmax(predictions[1]))\n",
        "class_names[5], class_names[1]"
      ],
      "metadata": {
        "colab": {
          "base_uri": "https://localhost:8080/"
        },
        "id": "njN9BJei9OrH",
        "outputId": "60481eb5-e45d-4f02-b24a-ab9b9618c244"
      },
      "execution_count": null,
      "outputs": [
        {
          "output_type": "execute_result",
          "data": {
            "text/plain": [
              "('Sandal', 'Trouser')"
            ]
          },
          "metadata": {},
          "execution_count": 54
        }
      ]
    },
    {
      "cell_type": "code",
      "source": [
        "plt.imshow(test_samples[1].squeeze(), cmap='gray')\n",
        "plt.title(class_names[test_labels[1]])\n",
        "\n",
        "# plt.imshow(image.squeeze(), cmap='gray')\n",
        "# plt.title(class_names[label])\n",
        "# # plt.axis(False)\n"
      ],
      "metadata": {
        "colab": {
          "base_uri": "https://localhost:8080/"
        },
        "id": "jzYA6xyy2Nh_",
        "outputId": "146486aa-7a52-473a-b22e-d77fc9eb4d10"
      },
      "execution_count": null,
      "outputs": [
        {
          "output_type": "execute_result",
          "data": {
            "text/plain": [
              "Text(0.5, 1.0, 'Trouser')"
            ]
          },
          "metadata": {},
          "execution_count": 55
        },
        {
          "output_type": "display_data",
          "data": {
            "text/plain": [
              "<Figure size 640x480 with 1 Axes>"
            ],
            "image/png": "[encoded data removed]"
          },
          "metadata": {}
        }
      ]
    },
    {
      "cell_type": "code",
      "source": [
        "plt.figure(figsize=(9, 9))\n",
        "nrows, ncols = 3, 3\n",
        "for i, sample in enumerate(test_samples):\n",
        "    plt.subplot(nrows, ncols, i+1)\n",
        "    ax = plt.imshow(sample.squeeze(), cmap='gray')\n",
        "    ax.axes.get_xaxis().set_visible(False)\n",
        "    ax.axes.get_yaxis().set_visible(False)\n",
        "    if int(torch.argmax(predictions[i])) == test_labels[i]:\n",
        "        plt.title(f\"pred:{class_names[int(torch.argmax(predictions[i]))]} | truth: {class_names[test_labels[i]]}\", c='g')\n",
        "    else:\n",
        "        plt.title(f\"pred:{class_names[int(torch.argmax(predictions[i]))]} | truth: {class_names[test_labels[i]]}\", c='r')\n",
        "\n",
        "\n",
        "# fig = plt.imshow(data)\n",
        "#     fig.set_cmap('hot')\n",
        "#     fig.axes.get_xaxis().set_visible(False)\n",
        "#     fig.axes.get_yaxis().set_visible(False)"
      ],
      "metadata": {
        "colab": {
          "base_uri": "https://localhost:8080/"
        },
        "id": "JVpqfknA3lOz",
        "outputId": "4e692ed9-8bce-4bfe-c040-f024c47bb97a"
      },
      "execution_count": null,
      "outputs": [
        {
          "output_type": "display_data",
          "data": {
            "text/plain": [
              "<Figure size 900x900 with 9 Axes>"
            ],
            "image/png": "[encoded data removed]"
          },
          "metadata": {}
        }
      ]
    },
    {
      "cell_type": "code",
      "source": [
        "y_preds = []\n",
        "# y_logits = []\n",
        "# y_logits_softmaxed = []\n",
        "model_cnn_1.eval()\n",
        "with torch.inference_mode():\n",
        "    for X, y in tqdm(test_dataloader, desc='loading . . .'):\n",
        "        y_logit = model_cnn_1(X)\n",
        "        # y_logits.append(y_logit)\n",
        "        # y_logit_softmaxed = torch.softmax(y_logit, dim=0)\n",
        "        # y_logits_softmaxed.append(y_logit_softmaxed)\n",
        "        # y_pred = torch.argmax(y_logit_softmaxed.squeeze(), dim=1)\n",
        "        y_pred = torch.argmax(y_logit.squeeze(), dim=1)\n",
        "        y_preds.append(y_pred)\n",
        "\n",
        "\n",
        "# y_logits[0][0], y_logits_softmaxed[0][0]\n",
        "# len(y_preds)\n",
        "y_preds_tensor = torch.cat(y_preds)\n",
        "\n",
        "y_preds_tensor[:10],"
      ],
      "metadata": {
        "colab": {
          "base_uri": "https://localhost:8080/",
          "height": 67,
          "referenced_widgets": [
            "8156604ba77a4c85b32b673b54081276",
            "bb5669c9e57c4f269720652369377c40",
            "c91a6f56b20246bab554cc31b6e9bcf6",
            "5de022287b60479f8c0a0b64561f4ebe",
            "8553a87c8b7f452493ca16cd8b77e3cc",
            "b6cda715da3e47198b3c854ebb5c663a",
            "9dc4d53c1cde4329ae88f91ce109e224",
            "f7527d25e6dc48d4af197ff2658342b3",
            "f6661bb00c744aca9f9ea8023e58dc84",
            "93c82787727d4a279312fbb2053cc630",
            "0d308d502e834a018faee83759734a18"
          ]
        },
        "id": "A0eab8olJzy3",
        "outputId": "2c9f9431-646f-4d8b-c9f0-0850b329011a"
      },
      "execution_count": null,
      "outputs": [
        {
          "output_type": "display_data",
          "data": {
            "text/plain": [
              "loading . . .:   0%|          | 0/313 [00:00<?, ?it/s]"
            ],
            "application/vnd.jupyter.widget-view+json": {
              "version_major": 2,
              "version_minor": 0,
              "model_id": "8156604ba77a4c85b32b673b54081276"
            }
          },
          "metadata": {}
        },
        {
          "output_type": "execute_result",
          "data": {
            "text/plain": [
              "(tensor([9, 6, 1, 1, 6, 1, 4, 6, 5, 7]),)"
            ]
          },
          "metadata": {},
          "execution_count": 57
        }
      ]
    },
    {
      "cell_type": "code",
      "source": [
        "import mlxtend\n",
        "mlxtend.__version__"
      ],
      "metadata": {
        "colab": {
          "base_uri": "https://localhost:8080/",
          "height": 36
        },
        "id": "HWlHIzjvQSor",
        "outputId": "f770791e-5f2c-483e-c8b4-537c02ca5cce"
      },
      "execution_count": null,
      "outputs": [
        {
          "output_type": "execute_result",
          "data": {
            "text/plain": [
              "'0.22.0'"
            ],
            "application/vnd.google.colaboratory.intrinsic+json": {
              "type": "string"
            }
          },
          "metadata": {},
          "execution_count": 58
        }
      ]
    },
    {
      "cell_type": "code",
      "source": [
        "pip install torchmetrics"
      ],
      "metadata": {
        "colab": {
          "base_uri": "https://localhost:8080/"
        },
        "id": "xyS7EMGgcmSY",
        "outputId": "7639ae25-9427-4b38-87a3-7c140ad7c6cd"
      },
      "execution_count": null,
      "outputs": [
        {
          "output_type": "stream",
          "name": "stdout",
          "text": [
            "Collecting torchmetrics\n",
            "  Downloading torchmetrics-1.3.2-py3-none-any.whl (841 kB)\n",
            "\u001b[2K     \u001b[90m━━━━━━━━━━━━━━━━━━━━━━━━━━━━━━━━━━━━━━━━\u001b[0m \u001b[32m841.5/841.5 kB\u001b[0m \u001b[31m7.7 MB/s\u001b[0m eta \u001b[36m0:00:00\u001b[0m\n",
            "\u001b[?25hRequirement already satisfied: numpy>1.20.0 in /usr/local/lib/python3.10/dist-packages (from torchmetrics) (1.25.2)\n",
            "Requirement already satisfied: packaging>17.1 in /usr/local/lib/python3.10/dist-packages (from torchmetrics) (24.0)\n",
            "Requirement already satisfied: torch>=1.10.0 in /usr/local/lib/python3.10/dist-packages (from torchmetrics) (2.2.1+cu121)\n",
            "Collecting lightning-utilities>=0.8.0 (from torchmetrics)\n",
            "  Downloading lightning_utilities-0.11.2-py3-none-any.whl (26 kB)\n",
            "Requirement already satisfied: setuptools in /usr/local/lib/python3.10/dist-packages (from lightning-utilities>=0.8.0->torchmetrics) (67.7.2)\n",
            "Requirement already satisfied: typing-extensions in /usr/local/lib/python3.10/dist-packages (from lightning-utilities>=0.8.0->torchmetrics) (4.11.0)\n",
            "Requirement already satisfied: filelock in /usr/local/lib/python3.10/dist-packages (from torch>=1.10.0->torchmetrics) (3.13.4)\n",
            "Requirement already satisfied: sympy in /usr/local/lib/python3.10/dist-packages (from torch>=1.10.0->torchmetrics) (1.12)\n",
            "Requirement already satisfied: networkx in /usr/local/lib/python3.10/dist-packages (from torch>=1.10.0->torchmetrics) (3.3)\n",
            "Requirement already satisfied: jinja2 in /usr/local/lib/python3.10/dist-packages (from torch>=1.10.0->torchmetrics) (3.1.3)\n",
            "Requirement already satisfied: fsspec in /usr/local/lib/python3.10/dist-packages (from torch>=1.10.0->torchmetrics) (2023.6.0)\n",
            "Collecting nvidia-cuda-nvrtc-cu12==12.1.105 (from torch>=1.10.0->torchmetrics)\n",
            "  Using cached nvidia_cuda_nvrtc_cu12-12.1.105-py3-none-manylinux1_x86_64.whl (23.7 MB)\n",
            "Collecting nvidia-cuda-runtime-cu12==12.1.105 (from torch>=1.10.0->torchmetrics)\n",
            "  Using cached nvidia_cuda_runtime_cu12-12.1.105-py3-none-manylinux1_x86_64.whl (823 kB)\n",
            "Collecting nvidia-cuda-cupti-cu12==12.1.105 (from torch>=1.10.0->torchmetrics)\n",
            "  Using cached nvidia_cuda_cupti_cu12-12.1.105-py3-none-manylinux1_x86_64.whl (14.1 MB)\n",
            "Collecting nvidia-cudnn-cu12==8.9.2.26 (from torch>=1.10.0->torchmetrics)\n",
            "  Using cached nvidia_cudnn_cu12-8.9.2.26-py3-none-manylinux1_x86_64.whl (731.7 MB)\n",
            "Collecting nvidia-cublas-cu12==12.1.3.1 (from torch>=1.10.0->torchmetrics)\n",
            "  Using cached nvidia_cublas_cu12-12.1.3.1-py3-none-manylinux1_x86_64.whl (410.6 MB)\n",
            "Collecting nvidia-cufft-cu12==11.0.2.54 (from torch>=1.10.0->torchmetrics)\n",
            "  Using cached nvidia_cufft_cu12-11.0.2.54-py3-none-manylinux1_x86_64.whl (121.6 MB)\n",
            "Collecting nvidia-curand-cu12==10.3.2.106 (from torch>=1.10.0->torchmetrics)\n",
            "  Using cached nvidia_curand_cu12-10.3.2.106-py3-none-manylinux1_x86_64.whl (56.5 MB)\n",
            "Collecting nvidia-cusolver-cu12==11.4.5.107 (from torch>=1.10.0->torchmetrics)\n",
            "  Using cached nvidia_cusolver_cu12-11.4.5.107-py3-none-manylinux1_x86_64.whl (124.2 MB)\n",
            "Collecting nvidia-cusparse-cu12==12.1.0.106 (from torch>=1.10.0->torchmetrics)\n",
            "  Using cached nvidia_cusparse_cu12-12.1.0.106-py3-none-manylinux1_x86_64.whl (196.0 MB)\n",
            "Collecting nvidia-nccl-cu12==2.19.3 (from torch>=1.10.0->torchmetrics)\n",
            "  Using cached nvidia_nccl_cu12-2.19.3-py3-none-manylinux1_x86_64.whl (166.0 MB)\n",
            "Collecting nvidia-nvtx-cu12==12.1.105 (from torch>=1.10.0->torchmetrics)\n",
            "  Using cached nvidia_nvtx_cu12-12.1.105-py3-none-manylinux1_x86_64.whl (99 kB)\n",
            "Requirement already satisfied: triton==2.2.0 in /usr/local/lib/python3.10/dist-packages (from torch>=1.10.0->torchmetrics) (2.2.0)\n",
            "Collecting nvidia-nvjitlink-cu12 (from nvidia-cusolver-cu12==11.4.5.107->torch>=1.10.0->torchmetrics)\n",
            "  Using cached nvidia_nvjitlink_cu12-12.4.127-py3-none-manylinux2014_x86_64.whl (21.1 MB)\n",
            "Requirement already satisfied: MarkupSafe>=2.0 in /usr/local/lib/python3.10/dist-packages (from jinja2->torch>=1.10.0->torchmetrics) (2.1.5)\n",
            "Requirement already satisfied: mpmath>=0.19 in /usr/local/lib/python3.10/dist-packages (from sympy->torch>=1.10.0->torchmetrics) (1.3.0)\n",
            "Installing collected packages: nvidia-nvtx-cu12, nvidia-nvjitlink-cu12, nvidia-nccl-cu12, nvidia-curand-cu12, nvidia-cufft-cu12, nvidia-cuda-runtime-cu12, nvidia-cuda-nvrtc-cu12, nvidia-cuda-cupti-cu12, nvidia-cublas-cu12, lightning-utilities, nvidia-cusparse-cu12, nvidia-cudnn-cu12, nvidia-cusolver-cu12, torchmetrics\n",
            "Successfully installed lightning-utilities-0.11.2 nvidia-cublas-cu12-12.1.3.1 nvidia-cuda-cupti-cu12-12.1.105 nvidia-cuda-nvrtc-cu12-12.1.105 nvidia-cuda-runtime-cu12-12.1.105 nvidia-cudnn-cu12-8.9.2.26 nvidia-cufft-cu12-11.0.2.54 nvidia-curand-cu12-10.3.2.106 nvidia-cusolver-cu12-11.4.5.107 nvidia-cusparse-cu12-12.1.0.106 nvidia-nccl-cu12-2.19.3 nvidia-nvjitlink-cu12-12.4.127 nvidia-nvtx-cu12-12.1.105 torchmetrics-1.3.2\n"
          ]
        }
      ]
    },
    {
      "cell_type": "code",
      "source": [
        "import torchmetrics\n",
        "torchmetrics.__version__"
      ],
      "metadata": {
        "colab": {
          "base_uri": "https://localhost:8080/"
        },
        "id": "R1nJVS3RRB7j",
        "outputId": "4a630834-815d-4044-ce5c-c4178d4fda8b"
      },
      "execution_count": null,
      "outputs": [
        {
          "output_type": "execute_result",
          "data": {
            "text/plain": [
              "'1.3.2'"
            ],
            "application/vnd.google.colaboratory.intrinsic+json": {
              "type": "string"
            }
          },
          "metadata": {},
          "execution_count": 60
        }
      ]
    },
    {
      "cell_type": "code",
      "source": [
        "from torchmetrics import ConfusionMatrix\n",
        "from mlxtend.plotting import plot_confusion_matrix\n",
        "confmat = ConfusionMatrix(num_classes=len(class_names), task='multiclass')\n",
        "confmat_tensor = confmat(y_preds_tensor, test_data.targets)\n",
        "\n",
        "confmat_tensor\n"
      ],
      "metadata": {
        "colab": {
          "base_uri": "https://localhost:8080/"
        },
        "id": "F_AGgX95V-FF",
        "outputId": "232b1408-b5d3-4883-e67c-f300390d04b6"
      },
      "execution_count": null,
      "outputs": [
        {
          "output_type": "execute_result",
          "data": {
            "text/plain": [
              "tensor([[766,   0,  19,  53,   6,   1, 135,   0,  20,   0],\n",
              "        [  3, 954,   0,  33,   6,   0,   2,   0,   2,   0],\n",
              "        [  7,   0, 647,  14, 160,   0, 166,   0,   6,   0],\n",
              "        [ 21,   3,   4, 912,  18,   0,  39,   0,   3,   0],\n",
              "        [  1,   1,  48,  60, 770,   0, 118,   0,   2,   0],\n",
              "        [  1,   0,   0,   2,   0, 952,   0,  25,   1,  19],\n",
              "        [123,   0,  57,  48,  83,   1, 655,   0,  33,   0],\n",
              "        [  0,   0,   0,   0,   0,  33,   0, 928,   0,  39],\n",
              "        [  0,   1,   4,  11,   2,   2,   8,   5, 967,   0],\n",
              "        [  0,   0,   0,   0,   0,   5,   0,  38,   1, 956]])"
            ]
          },
          "metadata": {},
          "execution_count": 61
        }
      ]
    },
    {
      "cell_type": "code",
      "source": [
        "confmat_tensor.dtype\n",
        "confmat_tensor.numpy().dtype"
      ],
      "metadata": {
        "colab": {
          "base_uri": "https://localhost:8080/"
        },
        "id": "FBKKxXbAbgNt",
        "outputId": "b7418509-9675-4ea8-dec9-d3a6eb18536d"
      },
      "execution_count": null,
      "outputs": [
        {
          "output_type": "execute_result",
          "data": {
            "text/plain": [
              "dtype('int64')"
            ]
          },
          "metadata": {},
          "execution_count": 62
        }
      ]
    },
    {
      "cell_type": "code",
      "source": [
        "fig, ax = plot_confusion_matrix(conf_mat=confmat_tensor.numpy(),\n",
        "                                class_names = class_names,\n",
        "                                figsize=(10, 7))\n"
      ],
      "metadata": {
        "colab": {
          "base_uri": "https://localhost:8080/"
        },
        "id": "pugDovEnajZL",
        "outputId": "96825540-6c9c-4f21-fb7b-ab849601be8c"
      },
      "execution_count": null,
      "outputs": [
        {
          "output_type": "display_data",
          "data": {
            "text/plain": [
              "<Figure size 1000x700 with 1 Axes>"
            ],
            "image/png": "[encoded data removed]"
          },
          "metadata": {}
        }
      ]
    },
    {
      "cell_type": "code",
      "source": [
        "\n",
        "torch.isclose(torch.tensor(model_2_results['model_loss']),\n",
        "              torch.tensor(model_1_results['model_loss']))\n",
        "\n",
        "\n",
        "# model_2_results, model_1_results"
      ],
      "metadata": {
        "colab": {
          "base_uri": "https://localhost:8080/"
        },
        "id": "TxLB1OH-dFeh",
        "outputId": "7eeb91ce-0b72-4877-9c0c-3cd047fa553b"
      },
      "execution_count": null,
      "outputs": [
        {
          "output_type": "execute_result",
          "data": {
            "text/plain": [
              "tensor(False)"
            ]
          },
          "metadata": {},
          "execution_count": 64
        }
      ]
    }
  ]
}